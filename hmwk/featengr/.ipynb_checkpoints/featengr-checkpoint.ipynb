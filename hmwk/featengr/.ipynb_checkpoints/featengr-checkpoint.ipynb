{
 "cells": [
  {
   "cell_type": "markdown",
   "metadata": {},
   "source": [
    "# Feature Engineering Homework \n",
    "***\n",
    "**Name**: Pranav Kumar Sivakumar \n",
    "\n",
    "**Kaggle Username**: $PranavPKS$\n",
    "***\n",
    "\n",
    "This assignment is due on Moodle by **5pm on Friday February 23rd**. Additionally, you must make at least one submission to the **Kaggle** competition before it closes at **4:59pm on Friday February 23rd**. Submit only this Jupyter notebook to Moodle. Do not compress it using tar, rar, zip, etc. Your solutions to analysis questions should be done in Markdown directly below the associated question.  Remember that you are encouraged to discuss the problems with your instructors and classmates, but **you must write all code and solutions on your own**.  For a refresher on the course **Collaboration Policy** click [here](https://github.com/chrisketelsen/CSCI5622-Machine-Learning/blob/master/resources/syllabus.md#collaboration-policy)\n",
    "\n"
   ]
  },
  {
   "cell_type": "markdown",
   "metadata": {},
   "source": [
    "## Overview \n",
    "***\n",
    "\n",
    "When people are discussing popular media, there’s a concept of spoilers. That is, critical information about the plot of a TV show, book, or movie that “ruins” the experience for people who haven’t read / seen it yet.\n",
    "\n",
    "The goal of this assignment is to do text classification on forum posts from the website [tvtropes.org](http://tvtropes.org/), to predict whether a post is a spoiler or not. We'll be using the logistic regression classifier provided by sklearn.\n",
    "\n",
    "Unlike previous assignments, the code provided with this assignment has all of the functionality required. Your job is to make the functionality better by improving the features the code uses for text classification.\n",
    "\n",
    "**NOTE**: Because the goal of this assignment is feature engineering, not classification algorithms, you may not change the underlying algorithm or it's parameters\n",
    "\n",
    "This assignment is structured in a way that approximates how classification works in the real world: Features are typically underspecified (or not specified at all). You, the data digger, have to articulate the features you need. You then compete against others to provide useful predictions.\n",
    "\n",
    "It may seem straightforward, but do not start this at the last minute. There are often many things that go wrong in testing out features, and you'll want to make sure your features work well once you've found them.\n"
   ]
  },
  {
   "cell_type": "markdown",
   "metadata": {},
   "source": [
    "## Kaggle In-Class Competition \n",
    "***\n",
    "\n",
    "In addition to turning in this notebook on Moodle, you'll also need to submit your predictions on Kaggle, an online tournament site for machine learning competitions. The competition page can be found here:  \n",
    "\n",
    "[https://www.kaggle.com/c/feature-engineering-csci-5622-spring-2018](https://www.kaggle.com/c/feature-engineering-csci-5622-spring-2018)\n",
    "\n",
    "Additionally, a private invite link for the competition has been posted to Piazza. \n",
    "\n",
    "The starter code below has a `model_predict` method which produces a two column CSV file that is correctly formatted for Kaggle (predictions.csv). It should have the example Id as the first column and the prediction (`True` or `False`) as the second column. If you change this format your submissions will be scored as zero accuracy on Kaggle. \n",
    "\n",
    "**Note**: You may only submit **THREE** predictions to Kaggle per day.  Instead of using the public leaderboard as your sole evaluation processes, it is highly recommended that you perform local evaluation using a validation set or cross-validation. "
   ]
  },
  {
   "cell_type": "code",
   "execution_count": 1,
   "metadata": {},
   "outputs": [],
   "source": [
    "import numpy as np\n",
    "import pandas as pd\n",
    "from sklearn.pipeline import FeatureUnion\n",
    "from sklearn.feature_extraction.text import CountVectorizer, TfidfVectorizer\n",
    "from nltk.stem import WordNetLemmatizer\n",
    "import re\n",
    "import string\n",
    "from scipy.sparse import coo_matrix, hstack\n",
    "#from sklearn.model_selection import GridSearchCV\n",
    "from scipy import sparse\n",
    "wl = WordNetLemmatizer()\n",
    "import pickle\n",
    "#from sklearn.feature_selection import SelectFromModel\n",
    "from nltk.tokenize import word_tokenize"
   ]
  },
  {
   "cell_type": "code",
   "execution_count": null,
   "metadata": {
    "collapsed": true
   },
   "outputs": [],
   "source": [
    "import json\n",
    "import http.client\n",
    "import time\n",
    "import re\n",
    "\n",
    "#This data extraction takes atleast 10 mins\n",
    "def get_gr(txt):\n",
    "    conn = http.client.HTTPSConnection(\"api.themoviedb.org\")\n",
    "    conn.request(\"GET\", \"/3/search/tv?page=1&query=\"+txt+\"&language=en-US&api_key=ffdfecf0830968b442b85db5a9cb58a9\")\n",
    "    data = conn.getresponse().read()\n",
    "    if json.loads(data)['results']:\n",
    "        id_temp = json.loads(data)['results'][0]['id']\n",
    "        try:\n",
    "            conn.request(\"GET\", \"/3/tv/\"+str(id_temp)+\"?language=en-US&api_key=ffdfecf0830968b442b85db5a9cb58a9\")\n",
    "        except:\n",
    "            conn.request(\"GET\", \"/3/tv/\"+str(id_temp)+\"?language=en-US&api_key=ffdfecf0830968b442b85db5a9cb58a9\")\n",
    "        dd = conn.getresponse().read()\n",
    "        temp_genre=\"\"\n",
    "        if json.loads(dd)['genres']:\n",
    "            for j in range(len(json.loads(dd)['genres'])):\n",
    "                temp_genre = temp_genre + json.loads(dd)['genres'][j]['name'].replace(\"& \", \"\") + \" \"\n",
    "            g = temp_genre[:-1]\n",
    "        else:\n",
    "            g = \"\"\n",
    "        if json.loads(dd)['episode_run_time']:\n",
    "            r= float(json.loads(dd)['episode_run_time'][0])/100.0\n",
    "        else:\n",
    "            r= 0.4\n",
    "        if json.loads(dd)['number_of_episodes']:\n",
    "            ep= float(json.loads(dd)['number_of_episodes'])/100.0\n",
    "        else:\n",
    "            ep= 1.3\n",
    "        return g,r,ep\n",
    "    else:\n",
    "        return \"\",0.4,1.3\n",
    "    \n",
    "def data_col(filepath):\n",
    "    genres={}\n",
    "    runtime={}\n",
    "    df = pd.read_csv(filepath)\n",
    "    pages = list(set(df[\"page\"]))\n",
    "    for i in range(len(pages)):\n",
    "        txt = ' '.join(re.findall(r'[A-Z](?:[a-z]+|[A-Z]*(?=[A-Z]|$))', pages[i])).lower().replace(\" \",\"%20\")\n",
    "        try:\n",
    "            genres[pages[i]],runtime[pages[i]],episodes[pages[i]]=get_gr(txt)\n",
    "        except:\n",
    "            #print(i)\n",
    "            time.sleep(3) \n",
    "            genres[pages[i]],runtime[pages[i]],episodes[pages[i]]=get_gr(txt)\n",
    "\n",
    "    gen=[]\n",
    "    rt=[]\n",
    "    ep=[]\n",
    "    for i in range(len(df[\"page\"])):\n",
    "        gen.append(genres[df[\"page\"][i]])\n",
    "        rt.append(runtime[df[\"page\"][i]])\n",
    "        ep.append(episodes[df[\"page\"][i]])\n",
    "    return gen,rt,ep\n",
    "        \n",
    "gen,rt,ep = data_col(\"../data/spoilers/train.csv\")\n",
    "gen_test,rt_test,ep_test = data_col(\"../data/spoilers/test.csv\")\n",
    "\n",
    "with open(\"apiall.txt\", \"wb\") as fp:\n",
    "    pickle.dump([gen,gen_test,rt,rt_test,ep,ep_test], fp)"
   ]
  },
  {
   "cell_type": "code",
   "execution_count": 2,
   "metadata": {},
   "outputs": [],
   "source": [
    "with open(\"apiall.txt\", \"rb\") as fp:\n",
    "    gen,gen_test,rt,rt_test,ep,ep_test = pickle.load(fp)"
   ]
  },
  {
   "cell_type": "code",
   "execution_count": null,
   "metadata": {
    "collapsed": true
   },
   "outputs": [],
   "source": [
    "from nltk.tag import StanfordNERTagger,StanfordPOSTagger\n",
    "\n",
    "#This data extraction takes atleast 9 hours and requires the files(.jar files, .tagger file and .gz file) denoted below\n",
    "def nertspos(filepath):\n",
    "    model = 'stanford-ner-2017-06-09/classifiers/english.all.3class.distsim.crf.ser.gz'\n",
    "    jar = 'stanford-ner-2017-06-09/stanford-ner.jar'\n",
    "    ner_tagger = StanfordNERTagger(model, jar, encoding='utf8')\n",
    "\n",
    "    jar2 = 'stanford-postagger-2017-06-09/stanford-postagger.jar'\n",
    "    model2 = 'stanford-postagger-2017-06-09/models/english-bidirectional-distsim.tagger'\n",
    "    pos_tagger = StanfordPOSTagger(model2, jar2, encoding='utf8')\n",
    "\n",
    "    df = pd.read_csv(filepath)\n",
    "    pos=[]\n",
    "    nerts=[]\n",
    "    for i in range(len(df['sentence'])):\n",
    "        nerts.append(' '.join([ y for (x,y) in ner_tagger.tag(word_tokenize(df['sentence'][i])) if y!='O']))\n",
    "        pos.append(' '.join([ y for (x,y) in pos_tagger.tag(word_tokenize(df['sentence'][i])) if y in ['VB','VBD','VBG','VBN','VBP','VBZ']]))\n",
    "\n",
    "    return nerts,pos\n",
    "\n",
    "\n",
    "nerts,pos = nertspos(\"../data/spoilers/train.csv\")\n",
    "nerts_test,pos_test = nertspos(\"../data/spoilers/test.csv\")\n",
    "\n",
    "with open(\"allparse.txt\", \"wb\") as fp:\n",
    "    pickle.dump([nerts,nerts_test,pos,pos_test],fp)"
   ]
  },
  {
   "cell_type": "code",
   "execution_count": 3,
   "metadata": {
    "collapsed": true
   },
   "outputs": [],
   "source": [
    "with open(\"allparse.txt\", \"rb\") as fp:\n",
    "    nerts,nerts_test,pos,pos_test = pickle.load(fp)"
   ]
  },
  {
   "cell_type": "markdown",
   "metadata": {},
   "source": [
    "### [25 points] Problem 1: Feature Engineering \n",
    "***\n",
    "\n",
    "The `FeatEngr` class is where the magic happens.  In it's current form it will read in the training data and vectorize it using simple Bag-of-Words.  It then trains a model and makes predictions.  \n",
    "\n",
    "25 points of your grade will be generated from your performance on the the classification competition on Kaggle. The performance will be evaluated on accuracy on the held-out test set. Half of the test set is used to evaluate accuracy on the public leaderboard.  The other half of the test set is used to evaluate accuracy on the private leaderboard (which you will not be able to see until the close of the competition). \n",
    "\n",
    "You should be able to significantly improve on the baseline system (i.e. the predictions made by the starter code we've provided) as reported by the Kaggle system.  Additionally, the top **THREE** students from the **PRIVATE** leaderboard at the end of the contest will receive 5 extra credit points towards their Problem 1 score.\n"
   ]
  },
  {
   "cell_type": "code",
   "execution_count": 4,
   "metadata": {},
   "outputs": [],
   "source": [
    "def preprocess(example):\n",
    "    if len(re.findall(r'\\!', example)) > 0:\n",
    "        example = example + \" PUNCxEXCLAMATIONPOINT\"\n",
    "    if len(re.findall(r'\\?', example)) > 0:\n",
    "        example = example + \" PUNCxQUESTIONMARK\"\n",
    "    if len(re.findall(r'[\\?\\!]{2,}', example)) > 0:\n",
    "        example = example + \" PUNCxINTERROBANG\"\n",
    "    return (' '.join([ wl.lemmatize(word,'v') for word in list(filter(None,re.sub(r'[^\\w\\s]','',example).lower().split(' ')))]))\n",
    "\n",
    "def caplen(examples):\n",
    "    ll=[]\n",
    "    for sentence in examples:\n",
    "        ll.append(float(sum(1 for c in sentence if c.isupper())))\n",
    "    return ll\n",
    "\n",
    "class FeatEngr:\n",
    "    def __init__(self):\n",
    "        self.vectorizer = TfidfVectorizer(ngram_range=(1, 3), analyzer='word', lowercase=False,stop_words='english',strip_accents='ascii')\n",
    "        self.tf_transformer = TfidfVectorizer(ngram_range=(1, 3), analyzer='word', preprocessor= preprocess, stop_words='english', norm = 'l2', use_idf=True, smooth_idf= True, strip_accents='ascii')\n",
    "        self.tf_transformer2 = TfidfVectorizer(analyzer='word',use_idf=True,smooth_idf=True)\n",
    "        self.tf_transformer3 = TfidfVectorizer(ngram_range=(1, 3), analyzer='word', stop_words='english', norm = 'l2', use_idf=True, smooth_idf= True, strip_accents='ascii')\n",
    "        self.tf_transformer4 = TfidfVectorizer(analyzer='word',use_idf=True,smooth_idf=True)\n",
    "        self.tf_transformer5 = TfidfVectorizer(analyzer='word',use_idf=True,smooth_idf=True)\n",
    "        self.tf_transformer6 = TfidfVectorizer(analyzer='word',use_idf=True,smooth_idf=True)\n",
    "                \n",
    "    def build_train_features(self, examples,tropes,genres,nerts,pos,rts,eps):\n",
    "        \"\"\"\n",
    "        Method to take in training text features and do further feature engineering \n",
    "        Most of the work in this homework will go here, or in similar functions  \n",
    "        :param examples: currently just a list of forum posts  \n",
    "        \"\"\"\n",
    "        \n",
    "        allfe = FeatureUnion([(\"counts\", self.vectorizer), (\"tfidf\", self.tf_transformer),(\"tfidf2\", self.tf_transformer3)]).fit_transform(examples)\n",
    "        tp = self.tf_transformer2.fit_transform(tropes)\n",
    "        tp2 = self.tf_transformer4.fit_transform(genres)\n",
    "        tp3 = self.tf_transformer5.fit_transform(nerts)\n",
    "        tp4 = self.tf_transformer6.fit_transform(pos)\n",
    "        ll = np.array(caplen(examples))\n",
    "        return sparse.csr_matrix(hstack((coo_matrix(allfe),coo_matrix(tp),coo_matrix(tp2),coo_matrix(tp3),coo_matrix(tp4),np.array(rts)[:,None],ll[:,None],np.array(eps)[:,None])))\n",
    "\n",
    "    def get_test_features(self, examples,tropes,genres,nerts,pos,rts,eps):\n",
    "        \"\"\"\n",
    "        Method to take in test text features and transform the same way as train features \n",
    "        :param examples: currently just a list of forum posts  \n",
    "        \"\"\"        \n",
    "        \n",
    "        allfe = FeatureUnion([(\"counts\", self.vectorizer), (\"tfidf\", self.tf_transformer),(\"tfidf2\", self.tf_transformer3)]).transform(examples)\n",
    "        tp = self.tf_transformer2.transform(tropes)\n",
    "        tp2 = self.tf_transformer4.transform(genres)\n",
    "        tp3 = self.tf_transformer5.transform(nerts)\n",
    "        tp4 = self.tf_transformer6.transform(pos)\n",
    "        ll = np.array(caplen(examples))\n",
    "        return sparse.csr_matrix(hstack((coo_matrix(allfe),coo_matrix(tp),coo_matrix(tp2),coo_matrix(tp3),coo_matrix(tp4),np.array(rts)[:,None],ll[:,None],np.array(eps)[:,None])))\n",
    "        \n",
    "\n",
    "    def show_top10(self):\n",
    "        \"\"\"\n",
    "        prints the top 10 features for the positive class and the \n",
    "        top 10 features for the negative class. \n",
    "        \"\"\"\n",
    "        a1 = np.asarray(self.vectorizer.get_feature_names())\n",
    "        a2 = np.asarray(self.tf_transformer.get_feature_names())\n",
    "        a3 = np.asarray(self.tf_transformer2.get_feature_names())\n",
    "        a4 = np.asarray(self.tf_transformer3.get_feature_names())\n",
    "        a5 = np.asarray(self.tf_transformer4.get_feature_names())\n",
    "        a6 = np.asarray(self.tf_transformer5.get_feature_names())\n",
    "        a7 = np.asarray(self.tf_transformer6.get_feature_names())\n",
    "        a8 = np.asarray(['runtime','caplen','num_episodes'])\n",
    "        #a9 = np.asarray(self.tf_transformer8.get_feature_names())\n",
    "        feature_names = np.hstack(( a1,a2,a3,a4,a5,a6,a7,a8)).ravel()\n",
    "        top10 = np.argsort(self.logreg.coef_[0])[-10:]\n",
    "        bottom10 = np.argsort(self.logreg.coef_[0])[:10]\n",
    "        print(\"Pos: %s\" % \" - \".join(feature_names[top10]))\n",
    "        print(\"Neg: %s\" % \" - \".join(feature_names[bottom10]))\n",
    "                \n",
    "    def train_model(self, random_state=1234):\n",
    "        \"\"\"\n",
    "        Method to read in training data from file, and \n",
    "        train Logistic Regression classifier. \n",
    "        \n",
    "        :param random_state: seed for random number generator \n",
    "        \"\"\"\n",
    "        \n",
    "        from sklearn.linear_model import LogisticRegression \n",
    "        \n",
    "        # load data \n",
    "        dfTrain = pd.read_csv(\"../data/spoilers/train.csv\")\n",
    "        \n",
    "        # get training features and labels \n",
    "         \n",
    "        self.X_train = self.build_train_features(list(dfTrain[\"sentence\"]),list(dfTrain[\"trope\"]),list(gen),list(nerts),list(pos),list(rt),list(ep))\n",
    "        #self.X_train = self.build_train_features(list(dfTrain[\"sentence\"][:-500]),list(dfTrain[\"trope\"][:-500]),list(gen[:-500]),list(nerts[:-500]),list(pos[:-500]),list(rt[:-500]))\n",
    "        \n",
    "        \n",
    "        self.y_train = np.array(dfTrain[\"spoiler\"], dtype=int)\n",
    "        #self.y_train = np.array(dfTrain[\"spoiler\"][:-500], dtype=int)\n",
    "        \n",
    "        #self.X_val = self.get_test_features(list(dfTrain[\"sentence\"][-500:]),list(dfTrain[\"trope\"][-500:]),list(gen[-500:]),list(nerts[-500:]),list(pos[-500:]),list(rt[-500:]))\n",
    "        #self.y_val = np.array(dfTrain[\"spoiler\"][-500:], dtype=int)\n",
    "        \n",
    "        # train logistic regression model.  !!You MAY NOT CHANGE THIS!! \n",
    "        self.logreg =  LogisticRegression(C=1.0,random_state=random_state,penalty='l2')\n",
    "        self.logreg.fit(self.X_train, self.y_train)\n",
    "        \n",
    "        \n",
    "    def model_predict(self):\n",
    "        \"\"\"\n",
    "        Method to read in test data from file, make predictions\n",
    "        using trained model, and dump results to file \n",
    "        \"\"\"\n",
    "        \n",
    "        # read in test data \n",
    "        dfTest  = pd.read_csv(\"../data/spoilers/test.csv\")\n",
    "        \n",
    "        # featurize test data \n",
    "        self.X_test = self.get_test_features(list(dfTest[\"sentence\"]),list(dfTest[\"trope\"]),list(gen_test),list(nerts_test),list(pos_test),list(rt_test),list(ep_test))\n",
    "        \n",
    "        #val_pred = self.logreg.predict(self.X_val)\n",
    "        # make predictions on test data \n",
    "        pred = self.logreg.predict(self.X_test)\n",
    "\n",
    "        # dump predictions to file for submission to Kaggle  \n",
    "        pd.DataFrame({\"spoiler\": np.array(pred, dtype=bool)}).to_csv(\"prediction.csv\", index=True, index_label=\"Id\")\n",
    "        #return val_pred"
   ]
  },
  {
   "cell_type": "code",
   "execution_count": 5,
   "metadata": {},
   "outputs": [
    {
     "name": "stdout",
     "output_type": "stream",
     "text": [
      "Pos: working hauser like - kill - worse hints - zod blue - zombies massacred group - reveal - worf hadn - end - zod - die\n",
      "Neg: women - witnessed visiting - world weary - young donald trump - work heavy bias - yellow caution - willingness use - reality - talk - working magic radar\n"
     ]
    }
   ],
   "source": [
    "# Instantiate the FeatEngr clas \n",
    "feat = FeatEngr()\n",
    "\n",
    "# Train your Logistic Regression classifier \n",
    "feat.train_model(random_state=1230)\n",
    "\n",
    "# Shows the top 10 features for each class \n",
    "feat.show_top10()\n",
    "\n",
    "# Make prediction on test data and produce Kaggle submission file \n",
    "#val_pred = feat.model_predict()\n",
    "feat.model_predict()"
   ]
  },
  {
   "cell_type": "code",
   "execution_count": 33,
   "metadata": {},
   "outputs": [
    {
     "data": {
      "text/plain": [
       "0.72399999999999998"
      ]
     },
     "execution_count": 33,
     "metadata": {},
     "output_type": "execute_result"
    }
   ],
   "source": [
    "np.sum(np.equal(val_pred,feat.y_val))/len(feat.y_val) #Accuracy on the validation set"
   ]
  },
  {
   "cell_type": "code",
   "execution_count": 6,
   "metadata": {},
   "outputs": [
    {
     "name": "stdout",
     "output_type": "stream",
     "text": [
      "Accuracy: 74.4611528822%\n"
     ]
    }
   ],
   "source": [
    "from sklearn.model_selection import KFold\n",
    "kf = KFold(n_splits=5, shuffle=True, random_state=None)\n",
    "acc=[]\n",
    "for train_index, test_index in kf.split(feat.X_train):\n",
    "    X_train, X_test = feat.X_train[train_index], feat.X_train[test_index]\n",
    "    y_train, y_test = feat.y_train[train_index], feat.y_train[test_index]\n",
    "    feat.logreg.fit(X_train, y_train)\n",
    "    pred = feat.logreg.predict(X_test)\n",
    "    acc.append(np.sum(np.equal(pred,y_test))/len(y_test))\n",
    "print(\"Accuracy: \"+str(np.mean(np.array(acc))*100)+\"%\")"
   ]
  },
  {
   "cell_type": "markdown",
   "metadata": {},
   "source": [
    "### [25 points] Problem 2: Motivation and Analysis \n",
    "***\n",
    "\n",
    "The job of the written portion of the homework is to convince the grader that:\n",
    "\n",
    "- Your new features work\n",
    "- You understand what the new features are doing\n",
    "- You had a clear methodology for incorporating the new features\n",
    "\n",
    "Make sure that you have examples and quantitative evidence that your features are working well. Be sure to explain how you used the data (e.g., did you have a validation set? did you do cross-validation?) and how you inspected the results. In addition, it is very important that you show some kind of an **error analysis** throughout your process.  That is, you should demonstrate that you've looked at misclassified examples and put thought into how you can craft new features to improve your model. \n",
    "\n",
    "A sure way of getting a low grade is simply listing what you tried and reporting the Kaggle score for each. You are expected to pay more attention to what is going on with the data and take a data-driven approach to feature engineering."
   ]
  },
  {
   "cell_type": "markdown",
   "metadata": {
    "collapsed": true
   },
   "source": [
    "***\n",
    "The training has been validated in both the ways,\n",
    "- Had arbitrarily chosen portions of the training data (like last 500 tuples) as a hold-out/validation set\n",
    "- Have also done cross validation using k-Fold method with 5 data_splits with shuffling, to lessen the model's variance effect on validation \n",
    "\n",
    "The following steps to include features had adequately incremented the cross-validation scores here, but may or maynot reflect the same change in Kaggle, (expecting to reflect the increase in the private leaderboard).\n",
    "\n",
    "Changed the Count vectorizer to Tf-idf vectorizer, to minimize the impact of the document-specific unnecessary stop-words (inverse document frequency helps here). Also modified the argument to include features based on n-grams with n ranging from 1 to 3, the accuracy decreased if it is taken beyond that (also there is an exponential increase in the number of features).\n",
    "To n-gram features inclusion is corroborated with the display of some of the top 10 features like (taken from above),\n",
    "*** working hauser like - zod blue - worse hints - zombies massacred group - worf hadn - witnessed visiting - world weary - work heavy bias - young donald trump - yellow caution - willingness use - working magic radar - years old hell***\n",
    "\n",
    "Initially did lemmatization to every sentence to group the counts of the words based on their root words, most text based pre-processing has to undergo stemming/lemmatization to avoid noisy data.\n",
    "Before lemmatization, I removed all the punctuations and made it to lowercase words. \n",
    "\n",
    "I had few examples that had one or more symbols like '!','?' which were misclassified,\n",
    "so added a string for indicating the presence of one/more punctuations, since the punctuations were already removed for lemmatization.\n",
    "The probability of not being a spoiler was higher if the sentence had one/more symbols.\n",
    "The counts of True and False of one of the case('!' symbol) is shown below"
   ]
  },
  {
   "cell_type": "code",
   "execution_count": 7,
   "metadata": {},
   "outputs": [
    {
     "name": "stdout",
     "output_type": "stream",
     "text": [
      "142 223\n"
     ]
    }
   ],
   "source": [
    "df = pd.read_csv(\"../data/spoilers/train.csv\")\n",
    "t=0\n",
    "f=0\n",
    "for i in range(len(df['sentence'])):\n",
    "    if len(re.findall(r'\\!', df['sentence'][i])) > 0:\n",
    "        if df['spoiler'][i] == True:\n",
    "            t=t+1\n",
    "        else:\n",
    "            f=f+1\n",
    "print(t,f)"
   ]
  },
  {
   "cell_type": "markdown",
   "metadata": {},
   "source": [
    "After inspecting the other columns in the provided dataset, the column ***trope*** had common elements among both the training and test sets, but not the ***page*** column. So included a separate vectorizer for the trope column and concatenated the resultant matrix with the previous matrix.\n",
    "\n",
    "Spoiler detection can be made effective if the capital letters were not reduced to lowercase (that was done during preprocessing). To overcome this drawback, I added two extensions to the feature extraction,\n",
    "- Added a separate vectorizer that has actual data without preprocessing (also not making it to lowercase by default) and combined to the first vectorizer using ***FeatureUnion***.\n",
    "- Also added a separate vectorizer that runs with the counts of capital letters in each sentence obtained from the caplen method.\n",
    "To improve the effect of non-preprocessing, added another vectorizer to the FeatureUnion that takes in data in lowercase without preprocessing.\n",
    "\n",
    "The above three inclusions increased the cross-validation accuracy by 10 % above the baseline"
   ]
  },
  {
   "cell_type": "markdown",
   "metadata": {},
   "source": [
    "The following are some of the additional features that were extracted, from the web through APIs (or) using literature based parsers.\n",
    "#### - Genres, Running times and Number of episodes\n",
    "The genre of a media, the length of the work and the total number of episodes are some of the useful indicators of whether it is likely to have a spoiler or not. The data was collected using the API provided by the website 'themoviedb'. Genres are made into strings with tags separated by space, for each of the sentence and later sent to a separate vectorizer, which is combined with the whole for the logreg. \n",
    "\n",
    "Based on experiments, Genres like Drama, Fantasy, Sci-Fi are most likely to have a spoiler.\n",
    "Similarly Comedy genre is most likely to not have a spoiler.\n",
    "These observations are illustrated below with the histograms,"
   ]
  },
  {
   "cell_type": "code",
   "execution_count": 8,
   "metadata": {},
   "outputs": [],
   "source": [
    "gen_t=[]\n",
    "gen_f=[]\n",
    "for i in range(len(df['sentence'])):\n",
    "    if df['spoiler'][i] == True:\n",
    "        gen_t = gen_t + gen[i].split(' ')\n",
    "    if df['spoiler'][i] == False:\n",
    "        gen_f = gen_f + gen[i].split(' ')"
   ]
  },
  {
   "cell_type": "code",
   "execution_count": 9,
   "metadata": {},
   "outputs": [
    {
     "data": {
      "text/plain": [
       "<matplotlib.axes._subplots.AxesSubplot at 0x202bfa37b00>"
      ]
     },
     "execution_count": 9,
     "metadata": {},
     "output_type": "execute_result"
    },
    {
     "data": {
      "image/png": "[encoded data removed]",
      "text/plain": [
       "<matplotlib.figure.Figure at 0x202bfa372e8>"
      ]
     },
     "metadata": {},
     "output_type": "display_data"
    }
   ],
   "source": [
    "from collections import Counter\n",
    "%matplotlib inline\n",
    "gen_counts = Counter(gen_t)\n",
    "dft = pd.DataFrame.from_dict(gen_counts, orient='index')\n",
    "dft.plot(kind='bar')"
   ]
  },
  {
   "cell_type": "markdown",
   "metadata": {},
   "source": [
    "This graph essentially shows the counts of spoilers in the respective genres "
   ]
  },
  {
   "cell_type": "code",
   "execution_count": 10,
   "metadata": {},
   "outputs": [
    {
     "data": {
      "text/plain": [
       "<matplotlib.axes._subplots.AxesSubplot at 0x202bf8ffe10>"
      ]
     },
     "execution_count": 10,
     "metadata": {},
     "output_type": "execute_result"
    },
    {
     "data": {
      "image/png": "[encoded data removed]",
      "text/plain": [
       "<matplotlib.figure.Figure at 0x202b79c8710>"
      ]
     },
     "metadata": {},
     "output_type": "display_data"
    }
   ],
   "source": [
    "gen_counts = Counter(gen_f)\n",
    "dff = pd.DataFrame.from_dict(gen_counts, orient='index')\n",
    "dff.plot(kind='bar')"
   ]
  },
  {
   "cell_type": "markdown",
   "metadata": {},
   "source": [
    "Similarly this histogram denotes all the counts of non-spoilers in the respective genres."
   ]
  },
  {
   "cell_type": "markdown",
   "metadata": {},
   "source": [
    "The univariate distribution of observations along the runtimes are flexibly plotted below, "
   ]
  },
  {
   "cell_type": "code",
   "execution_count": 11,
   "metadata": {},
   "outputs": [],
   "source": [
    "rt_t=[]\n",
    "rt_f=[]\n",
    "rt_new = [i * 100 for i in rt]\n",
    "for i in range(len(df['sentence'])):\n",
    "    if df['spoiler'][i] == True:\n",
    "        rt_t.append(rt_new[i])\n",
    "    if df['spoiler'][i] == False:\n",
    "        rt_f.append(rt_new[i])"
   ]
  },
  {
   "cell_type": "code",
   "execution_count": 12,
   "metadata": {},
   "outputs": [
    {
     "data": {
      "text/plain": [
       "<matplotlib.axes._subplots.AxesSubplot at 0x202b75b05c0>"
      ]
     },
     "execution_count": 12,
     "metadata": {},
     "output_type": "execute_result"
    },
    {
     "data": {
      "image/png": "[encoded data removed]",
      "text/plain": [
       "<matplotlib.figure.Figure at 0x202af6ddc88>"
      ]
     },
     "metadata": {},
     "output_type": "display_data"
    }
   ],
   "source": [
    "import seaborn as sns\n",
    "sns.distplot(rt_t,hist=False)#X-axis is the runtime"
   ]
  },
  {
   "cell_type": "markdown",
   "metadata": {},
   "source": [
    "From this graph, it can be observed that spoilers are more likely to occur if the runtime of the episode of the TV show is near 40 to 45 mins. "
   ]
  },
  {
   "cell_type": "code",
   "execution_count": 13,
   "metadata": {},
   "outputs": [
    {
     "data": {
      "text/plain": [
       "<matplotlib.axes._subplots.AxesSubplot at 0x202b6f67dd8>"
      ]
     },
     "execution_count": 13,
     "metadata": {},
     "output_type": "execute_result"
    },
    {
     "data": {
      "image/png": "[encoded data removed]",
      "text/plain": [
       "<matplotlib.figure.Figure at 0x202b6edd518>"
      ]
     },
     "metadata": {},
     "output_type": "display_data"
    }
   ],
   "source": [
    "sns.distplot(rt_f,hist=False)#X-axis is the runtime"
   ]
  },
  {
   "cell_type": "markdown",
   "metadata": {},
   "source": [
    "From this graph, it can be observed that spoilers are less likely to occur if the runtime of the episode of the TV show is near 30 to 35 mins or from 45 to 50 mins. "
   ]
  },
  {
   "cell_type": "markdown",
   "metadata": {},
   "source": [
    "The number of episodes of the TV shows also plays a major role in detecting whether it may have a spoiler or not. To support this statement frequency graphs are plotted below."
   ]
  },
  {
   "cell_type": "code",
   "execution_count": 14,
   "metadata": {
    "collapsed": true
   },
   "outputs": [],
   "source": [
    "ep_t=[]\n",
    "ep_f=[]\n",
    "ep_new = [int(i * 100) for i in ep]\n",
    "for i in range(len(df['sentence'])):\n",
    "    if df['spoiler'][i] == True:\n",
    "        ep_t.append(ep_new[i])\n",
    "    if df['spoiler'][i] == False:\n",
    "        ep_f.append(ep_new[i])"
   ]
  },
  {
   "cell_type": "code",
   "execution_count": 15,
   "metadata": {},
   "outputs": [
    {
     "data": {
      "text/plain": [
       "<matplotlib.axes._subplots.AxesSubplot at 0x202b6e0d828>"
      ]
     },
     "execution_count": 15,
     "metadata": {},
     "output_type": "execute_result"
    },
    {
     "data": {
      "image/png": "[encoded data removed]",
      "text/plain": [
       "<matplotlib.figure.Figure at 0x202b6e528d0>"
      ]
     },
     "metadata": {},
     "output_type": "display_data"
    }
   ],
   "source": [
    "sns.distplot(ep_t,hist=False)#X-axis is the number of episodes"
   ]
  },
  {
   "cell_type": "markdown",
   "metadata": {},
   "source": [
    "Based on this graph, it can be inferred that shows with hundreds (less than 500) of episodes tend to have more spoilers "
   ]
  },
  {
   "cell_type": "code",
   "execution_count": 16,
   "metadata": {},
   "outputs": [
    {
     "data": {
      "text/plain": [
       "<matplotlib.axes._subplots.AxesSubplot at 0x202b6ce2860>"
      ]
     },
     "execution_count": 16,
     "metadata": {},
     "output_type": "execute_result"
    },
    {
     "data": {
      "image/png": "[encoded data removed]",
      "text/plain": [
       "<matplotlib.figure.Figure at 0x202b6cca940>"
      ]
     },
     "metadata": {},
     "output_type": "display_data"
    }
   ],
   "source": [
    "sns.distplot(rt_f,hist=False)#X-axis is the number of episodes"
   ]
  },
  {
   "cell_type": "markdown",
   "metadata": {},
   "source": [
    "Based on this plot, it can be observed that shows with less number of episodes (less than 70) are less likely to have spoilers"
   ]
  },
  {
   "cell_type": "markdown",
   "metadata": {},
   "source": [
    "***NER and POS tags***\n",
    "\n",
    "The other set of features are based on Stanford parsers to extract the presence of Named Entities and Parts of Speech for all the sentences. This extraction generally takes hours to run. From the recognition of Named Entities, 'O' tags are discarded, Similarly only Verb tags are taken from the Parts of Speech tags. The extracted tags are made as strings with all the corresponding tags per sentence and then sent to a vectorizer to take care of the frequencies, which is combined with the whole for the logreg (individual vecorizers for both the extractors).  "
   ]
  },
  {
   "cell_type": "code",
   "execution_count": 17,
   "metadata": {},
   "outputs": [],
   "source": [
    "nert_t={'LOCATION':0,'ORGANIZATION':0,'PERSON':0}\n",
    "nert_f={'LOCATION':0,'ORGANIZATION':0,'PERSON':0}\n",
    "ct={'LOCATION':0,'ORGANIZATION':0,'PERSON':0}\n",
    "cf={'LOCATION':0,'ORGANIZATION':0,'PERSON':0}\n",
    "for i in range(len(df['sentence'])):\n",
    "    if df['spoiler'][i] == True:\n",
    "        if nerts[i].split(' ')[0] != '':\n",
    "            tempd = Counter(nerts[i].split(' '))\n",
    "            for key in tempd:\n",
    "                nert_t[key] = nert_t[key] + tempd[key]\n",
    "                ct[key] = ct[key] + 1\n",
    "    if df['spoiler'][i] == False:\n",
    "        if nerts[i].split(' ')[0] != '':\n",
    "            tempd = Counter(nerts[i].split(' '))\n",
    "            for key in tempd:\n",
    "                nert_f[key] = nert_f[key] + tempd[key]\n",
    "                cf[key] = cf[key] + 1"
   ]
  },
  {
   "cell_type": "code",
   "execution_count": 18,
   "metadata": {},
   "outputs": [
    {
     "name": "stdout",
     "output_type": "stream",
     "text": [
      "Average number of LOCATION in a spoiler is: 1.3370535714285714\n",
      "Average number of ORGANIZATION in a spoiler is: 1.475195822454308\n",
      "Average number of PERSON in a spoiler is: 2.037411526794742\n",
      "Average number of LOCATION in a non-spoiler is: 1.4689119170984455\n",
      "Average number of ORGANIZATION in a non-spoiler is: 1.7085714285714286\n",
      "Average number of PERSON in a non-spoiler is: 2.016739203213927\n"
     ]
    }
   ],
   "source": [
    "for key in nert_t:\n",
    "    print(\"Average number of \"+key+\" in a spoiler is: \"+str(nert_t[key]/ct[key]))\n",
    "for key in nert_f:\n",
    "    print(\"Average number of \"+key+\" in a non-spoiler is: \"+str(nert_f[key]/cf[key]))"
   ]
  },
  {
   "cell_type": "markdown",
   "metadata": {},
   "source": [
    "So, for higher number of ORGANIZATION tags makes it more probable to have not have a spoiler"
   ]
  },
  {
   "cell_type": "code",
   "execution_count": 19,
   "metadata": {},
   "outputs": [
    {
     "name": "stdout",
     "output_type": "stream",
     "text": [
      "Average number of VBZ in a spoiler is: 1.7863501483679525\n",
      "Average number of VB in a spoiler is: 1.5439121756487026\n",
      "Average number of VBN in a spoiler is: 1.4107214832728738\n",
      "Average number of VBP in a spoiler is: 1.253968253968254\n",
      "Average number of VBD in a spoiler is: 1.735344827586207\n",
      "Average number of VBG in a spoiler is: 1.4608731466227347\n",
      "Average number of VBZ in a non-spoiler is: 1.5932203389830508\n",
      "Average number of VB in a non-spoiler is: 1.4348936170212765\n",
      "Average number of VBN in a non-spoiler is: 1.2888425443169969\n",
      "Average number of VBP in a non-spoiler is: 1.251940719830628\n",
      "Average number of VBD in a non-spoiler is: 1.5881168177240685\n",
      "Average number of VBG in a non-spoiler is: 1.3592652620205294\n"
     ]
    }
   ],
   "source": [
    "pos_t={'VBZ':0, 'VB':0, 'VBN':0, 'VBP':0, 'VBD':0, 'VBG':0}\n",
    "pos_f={'VBZ':0, 'VB':0, 'VBN':0, 'VBP':0, 'VBD':0, 'VBG':0}\n",
    "ct={'VBZ':0, 'VB':0, 'VBN':0, 'VBP':0, 'VBD':0, 'VBG':0}\n",
    "cf={'VBZ':0, 'VB':0, 'VBN':0, 'VBP':0, 'VBD':0, 'VBG':0}\n",
    "for i in range(len(df['sentence'])):\n",
    "    if df['spoiler'][i] == True:\n",
    "        if pos[i].split(' ')[0] != '':\n",
    "            tempd = Counter(pos[i].split(' '))\n",
    "            for key in tempd:\n",
    "                pos_t[key] = pos_t[key] + tempd[key]\n",
    "                ct[key] = ct[key] + 1\n",
    "    if df['spoiler'][i] == False:\n",
    "        if pos[i].split(' ')[0] != '':\n",
    "            tempd = Counter(pos[i].split(' '))\n",
    "            for key in tempd:\n",
    "                pos_f[key] = pos_f[key] + tempd[key]\n",
    "                cf[key] = cf[key] + 1\n",
    "for key in pos_t:\n",
    "    print(\"Average number of \"+key+\" in a spoiler is: \"+str(pos_t[key]/ct[key]))\n",
    "for key in pos_f:\n",
    "    print(\"Average number of \"+key+\" in a non-spoiler is: \"+str(pos_f[key]/cf[key]))"
   ]
  },
  {
   "cell_type": "markdown",
   "metadata": {},
   "source": [
    "So, for higher number of VBZ tags makes it more probable to have a  spoiler"
   ]
  },
  {
   "cell_type": "markdown",
   "metadata": {},
   "source": [
    "Finally, with the above all mentioned features, obtained a maximum accuracy of ***79.7%*** in Kaggle"
   ]
  },
  {
   "cell_type": "markdown",
   "metadata": {},
   "source": [
    "### Hints \n",
    "***\n",
    "\n",
    "- Don't use all the data until you're ready. \n",
    "\n",
    "- Examine the features that are being used.\n",
    "\n",
    "- Do error analyses.\n",
    "\n",
    "- If you have questions that aren’t answered in this list, feel free to ask them on Piazza.\n",
    "\n",
    "### FAQs \n",
    "***\n",
    "\n",
    "> Can I heavily modify the FeatEngr class? \n",
    "\n",
    "Totally.  This was just a starting point.  The only thing you cannot modify is the LogisticRegression classifier.  \n",
    "\n",
    "> Can I look at TV Tropes?\n",
    "\n",
    "In order to gain insight about the data yes, however, your feature extraction cannot use any additional data (beyond what I've given you) from the TV Tropes webpage.\n",
    "\n",
    "> Can I use IMDB, Wikipedia, or a dictionary?\n",
    "\n",
    "Yes, but you are not required to. So long as your features are fully automated, they can use any dataset other than TV Tropes. Be careful, however, that your dataset does not somehow include TV Tropes (e.g. using all webpages indexed by Google will likely include TV Tropes).\n",
    "\n",
    "> Can I combine features?\n",
    "\n",
    "Yes, and you probably should. This will likely be quite effective.\n",
    "\n",
    "> Can I use Mechanical Turk?\n",
    "\n",
    "That is not fully automatic, so no. You should be able to run your feature extraction without any human intervention. If you want to collect data from Mechanical Turk to train a classifier that you can then use to generate your features, that is fine. (But that’s way too much work for this assignment.)\n",
    "\n",
    "> Can I use a Neural Network to automatically generate derived features? \n",
    "\n",
    "No. This assignment is about your ability to extract meaningful features from the data using your own experimentation and experience.\n",
    "\n",
    "> What sort of improvement is “good” or “enough”?\n",
    "\n",
    "If you have 10-15% improvement over the baseline (on the Public Leaderboard) with your features, that’s more than sufficient. If you fail to get that improvement but have tried reasonable features, that satisfies the requirements of assignment. However, the extra credit for “winning” the class competition depends on the performance of other students.\n",
    "\n",
    "> Where do I start?  \n",
    "\n",
    "It might be a good idea to look at the in-class notebook associated with the Feature Engineering lecture where we did similar experiments. \n",
    "\n",
    "\n",
    "> Can I use late days on this assignment? \n",
    "\n",
    "You can use late days for the write-up submission, but the Kaggle competition closes at **4:59pm on Friday February 23rd**\n",
    "\n",
    "> Why does it say that the competition ends at 11:59pm when the assignment says 4:59pm? \n",
    "\n",
    "The end time/date are in UTC.  11:59pm UTC is equivalent to 4:59pm MST.  Kaggle In-Class does not allow us to change this. "
   ]
  }
 ],
 "metadata": {
  "kernelspec": {
   "display_name": "Python 3",
   "language": "python",
   "name": "python3"
  },
  "language_info": {
   "codemirror_mode": {
    "name": "ipython",
    "version": 3
   },
   "file_extension": ".py",
   "mimetype": "text/x-python",
   "name": "python",
   "nbconvert_exporter": "python",
   "pygments_lexer": "ipython3",
   "version": "3.6.3"
  }
 },
 "nbformat": 4,
 "nbformat_minor": 2
}

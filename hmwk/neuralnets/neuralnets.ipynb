{
 "cells": [
  {
   "cell_type": "markdown",
   "metadata": {},
   "source": [
    "# Neural Networks Homework \n",
    "***\n",
    "**Name**: Pranav Kumar Sivakumar \n",
    "***\n",
    "\n",
    "This assignment is due on Moodle by **11:59pm on Wednesday May 2nd**. Submit only this Jupyter notebook to Moodle.  Do not compress it using tar, rar, zip, etc. Your solutions to analysis questions should be done in Markdown directly below the associated question.  Remember that you are encouraged to discuss the problems with your instructors and classmates, but **you must write all code and solutions on your own**.  For a refresher on the course **Collaboration Policy** click [here](https://github.com/chrisketelsen/CSCI5622-Machine-Learning/blob/master/resources/syllabus.md#collaboration-policy)\n",
    "\n",
    "**NOTES**: \n",
    "\n",
    "- Do **NOT** load or use any Python packages that are not available in Anaconda 3.6. \n",
    "- Some problems with code may be autograded.  If we provide a function API **do not** change it.  If we do not provide a function API then you're free to structure your code however you like. \n",
    "- Submit only this Jupyter notebook to Moodle.  Do not compress it using tar, rar, zip, etc. "
   ]
  },
  {
   "cell_type": "code",
   "execution_count": 1,
   "metadata": {
    "ExecuteTime": {
     "end_time": "2018-04-20T02:42:13.096354Z",
     "start_time": "2018-04-20T02:42:12.091124Z"
    },
    "collapsed": true,
    "scrolled": false
   },
   "outputs": [],
   "source": [
    "import pickle, gzip\n",
    "import numpy as np\n",
    "import pandas as pd\n",
    "import matplotlib.pylab as plt\n",
    "%matplotlib inline"
   ]
  },
  {
   "cell_type": "markdown",
   "metadata": {},
   "source": [
    "### [30 points] Problem 1: Building and Training a Feed-Forward Neural Network \n",
    "***\n",
    "\n",
    "In this problem you'll implement a general feed-forward neural network class that utilizes sigmoid activation functions. Your tasks will be to implement `forward propagation`, `prediction`, `back propagation`, `gradient_checking`, and a general `train` routine to learn the weights in your network via Stochastic Gradient Descent.  \n",
    "\n",
    "The skeleton for the `Network` class is below. Note that this class is almost identical to the one you worked with in the **Lecture 18** in-class notebook, so you should look there to remind yourself of the details.   Scroll down to find more information about your tasks as well as unit tests. \n",
    "\n",
    "**Important Note**: In **Problem 2** we'll be using the `Network` class to train a network to do handwritten digit recognition.  Please make sure to utilize vectorized Numpy routines as much as possible, as writing inefficient code here will cause very slow training times in **Problem 2**. "
   ]
  },
  {
   "cell_type": "code",
   "execution_count": 77,
   "metadata": {
    "ExecuteTime": {
     "end_time": "2018-04-20T03:16:00.042109Z",
     "start_time": "2018-04-20T03:15:59.375181Z"
    },
    "collapsed": true,
    "scrolled": true
   },
   "outputs": [],
   "source": [
    "class Network:\n",
    "    def __init__(self, sizes):\n",
    "        \"\"\"\n",
    "        Initialize the neural network \n",
    "        \n",
    "        :param sizes: a list of the number of neurons in each layer \n",
    "        \"\"\"\n",
    "        # save the number of layers in the network \n",
    "        self.L = len(sizes) \n",
    "        \n",
    "        # store the list of layer sizes \n",
    "        self.sizes = sizes  \n",
    "        \n",
    "        # initialize the bias vectors for each hidden and output layer \n",
    "        self.b = [np.random.randn(n) for n in self.sizes[1:]]\n",
    "        \n",
    "        # initialize the matrices of weights for each hidden and output layer \n",
    "        self.W = [np.random.randn(n, m) for (m,n) in zip(self.sizes[:-1], self.sizes[1:])]\n",
    "        \n",
    "        # initialize the derivatives of biases for backprop \n",
    "        self.db = [np.zeros(n) for n in self.sizes[1:]]\n",
    "        \n",
    "        # initialize the derivatives of weights for backprop \n",
    "        self.dW = [np.zeros((n, m)) for (m,n) in zip(self.sizes[:-1], self.sizes[1:])]\n",
    "        \n",
    "        # initialize the activities on each hidden and output layer \n",
    "        self.z = [np.zeros(n) for n in self.sizes]\n",
    "        \n",
    "        # initialize the activations on each hidden and output layer \n",
    "        self.a = [np.zeros(n) for n in self.sizes]\n",
    "        \n",
    "        # initialize the deltas on each hidden and output layer \n",
    "        self.delta = [np.zeros(n) for n in self.sizes]\n",
    "        \n",
    "        self.valid_acc=[]\n",
    "        \n",
    "    def g(self, z):\n",
    "        \"\"\"\n",
    "        sigmoid activation function \n",
    "        \n",
    "        :param z: vector of activities to apply activation to \n",
    "        \"\"\"\n",
    "        z = np.clip(z, -20, 20)\n",
    "        return 1.0/(1.0 + np.exp(-z))\n",
    "    \n",
    "    def g_prime(self, z):\n",
    "        \"\"\"\n",
    "        derivative of sigmoid activation function \n",
    "        \n",
    "        :param z: vector of activities to apply derivative of activation to \n",
    "        \"\"\"\n",
    "        return self.g(z) * (1.0 - self.g(z))\n",
    "    \n",
    "    def C(self, a, y):\n",
    "        \"\"\"\n",
    "        evaluate the cost function for squared-loss C(a,y) = ||a-y||^2/2 \n",
    "        \n",
    "        :param a: activations on output layer \n",
    "        :param y: vector-encoded label \n",
    "        \"\"\"\n",
    "        return 0.5 * np.linalg.norm(a - y)**2\n",
    "    \n",
    "    def gradC(self, a, y):\n",
    "        \"\"\"\n",
    "        evaluate gradient of cost function for squared-loss C(a,y) = ||a-y||^2/2 \n",
    "        \n",
    "        :param a: activations on output layer \n",
    "        :param y: vector-encoded label \n",
    "        \"\"\"\n",
    "        return (a - y)\n",
    "    \n",
    "    def forward_prop(self, x):\n",
    "        \"\"\"\n",
    "        take an feature vector and propagate through network \n",
    "        \n",
    "        :param x: input feature vector \n",
    "        \"\"\"\n",
    "        \n",
    "        # TODO: Initialize activation on initial layer to x \n",
    "        \n",
    "        # TODO: Loop over layers and compute activities and activations \n",
    "        \n",
    "        self.a[0] = x\n",
    "        for i in range(self.L-1):\n",
    "            self.z[i+1] = np.matmul(self.W[i],self.a[i]) + self.b[i]\n",
    "            self.a[i+1] = self.g(self.z[i+1])\n",
    "        \n",
    "        \n",
    "    def predict(self, X):\n",
    "        \"\"\"\n",
    "        Predicts on the the data in X. Assume at least two output neurons so predictions\n",
    "        are one-hot encoded vectorized labels. \n",
    "        \n",
    "        :param X: a matrix of data to make predictions on \n",
    "        :return y: a matrix of vectorized labels \n",
    "        \"\"\"\n",
    "        \n",
    "        yhat = np.zeros((X.shape[0], self.sizes[-1]), dtype=int)        \n",
    "        for i in range(X.shape[0]):\n",
    "            self.forward_prop(X[i])\n",
    "            y = np.zeros(self.sizes[-1])\n",
    "            y[np.argmax(self.a[-1])] = 1\n",
    "            yhat[i] = y\n",
    "        return yhat \n",
    "    \n",
    "    def accuracy(self, X, y):\n",
    "        \"\"\"\n",
    "        compute accuracy on labeled training set \n",
    "\n",
    "        :param X: matrix of features \n",
    "        :param y: matrix of vectorized true labels \n",
    "        \"\"\"\n",
    "        yhat = self.predict(X)\n",
    "        return np.sum(np.all(np.equal(yhat, y), axis=1)) / X.shape[0]\n",
    "            \n",
    "            \n",
    "    def back_prop(self, x, y):\n",
    "        \"\"\"\n",
    "        Back propagation to get derivatives of C wrt weights and biases for given training example\n",
    "        \n",
    "        :param x: training features  \n",
    "        :param y: vector-encoded label \n",
    "        \"\"\"\n",
    "\n",
    "        \n",
    "        self.forward_prop(x)\n",
    "        self.delta[-1] = self.gradC(self.a[-1],y)*self.g_prime(self.z[-1])\n",
    "        for i in range(self.L-2,-1, -1):\n",
    "            self.dW[i] = np.matmul(self.delta[i+1].reshape(-1,1),self.a[i].reshape(1,-1))\n",
    "            self.db[i] = self.delta[i+1]\n",
    "            self.delta[i] = np.matmul(np.transpose(self.W[i]),self.delta[i+1])*self.g_prime(self.z[i])\n",
    "            \n",
    "        \n",
    "    def gradient_checking(self, X_train, y_train, EPS=0.0001):\n",
    "        \"\"\"\n",
    "        Performs gradient checking on all weights in the \n",
    "        network for a randomly selected training example \n",
    "        :param X_train: matrix of training features \n",
    "        :param y_train: matrix of vector-encoded training labels \n",
    "        \"\"\"\n",
    "        # Randomly select a training example \n",
    "        kk = np.random.randint(0,X_train.shape[0])\n",
    "        xk = X_train[kk]\n",
    "        yk = y_train[kk]\n",
    "\n",
    "        # Get the analytic(ish) weights from back_prop \n",
    "        self.back_prop(xk, yk)\n",
    "\n",
    "        # List of relative errors.  Used only for unit testing. \n",
    "        rel_errors = []\n",
    "\n",
    "        # Loop over and perturb each weight/bias in \n",
    "        # network and test numerical derivative \n",
    "        # Don't forget that after perturbing the weights\n",
    "        # you'll want to put them back the way they were! \n",
    "        \n",
    "        # Loop over and perturb each weight/bias in \n",
    "        # network and test numerical derivative \n",
    "        for ell in range(self.L-1):\n",
    "            for ii in range(self.W[ell].shape[0]):\n",
    "                # Check weights in level W[ell][ii,jj] \n",
    "                for jj in range(self.W[ell].shape[1]):\n",
    "                    \n",
    "                    # TODO true_dW  \n",
    "                    # TODO num_dW  \n",
    "                    true_dW = self.dW[ell][ii][jj]\n",
    "                    Wcor = self.W[ell][ii][jj]\n",
    "                    Wplus = self.W[ell][ii][jj] + EPS\n",
    "                    Wminus = self.W[ell][ii][jj] - EPS\n",
    "                    \n",
    "                    \n",
    "                    self.W[ell][ii][jj] = Wplus\n",
    "                    self.forward_prop(xk)\n",
    "                    \n",
    "                    Cplus = self.C(self.a[-1],yk)\n",
    "                    \n",
    "                    self.W[ell][ii][jj] = Wminus\n",
    "                    self.forward_prop(xk)\n",
    "                    \n",
    "                    Cminus = self.C(self.a[-1],yk)\n",
    "                    \n",
    "                    self.W[ell][ii][jj] = Wcor\n",
    "                    \n",
    "                    num_dW = (Cplus - Cminus)/(2*EPS)\n",
    "                    rel_dW = np.abs(true_dW-num_dW)/np.abs(true_dW)\n",
    "                    print(\"W[{:d}][{:d},{:d}]: true: {: 12.10e}  approx: {: 12.10e} rel_err: {: 12.10e}\".format(ell, ii, jj, true_dW, num_dW, rel_dW))\n",
    "                    rel_errors.append(rel_dW)\n",
    "                    \n",
    "                # Check bias b[ell][ii]\n",
    "                \n",
    "                # TODO true_db  \n",
    "                # TODO num_db  \n",
    "                \n",
    "                true_db = self.db[ell][ii]\n",
    "                \n",
    "                bcor = self.b[ell][ii]\n",
    "                bplus = self.b[ell][ii] + EPS\n",
    "                bminus = self.b[ell][ii] - EPS\n",
    "                    \n",
    "                    \n",
    "                self.b[ell][ii] = bplus\n",
    "                self.forward_prop(xk)\n",
    "                    \n",
    "                Cbplus = self.C(self.a[-1],yk)\n",
    "                    \n",
    "                self.b[ell][ii] = bminus\n",
    "                self.forward_prop(xk)\n",
    "                    \n",
    "                Cbminus = self.C(self.a[-1],yk)\n",
    "                    \n",
    "                self.b[ell][ii] = bcor\n",
    "                    \n",
    "                num_db = (Cbplus - Cbminus)/(2*EPS)\n",
    "                \n",
    "                rel_db = np.abs(true_db-num_db)/np.abs(true_db)\n",
    "                print(\"b[{:d}][{:d}]:   true: {: 12.10e}  approx: {: 12.10e} rel_err: {: 12.10e}\".format(ell, ii, true_db, num_db, rel_db))\n",
    "                rel_errors.append(rel_db)\n",
    "\n",
    "        return rel_errors\n",
    "            \n",
    "            \n",
    "    def train(self, X_train, y_train, X_valid=None, y_valid=None, eta=0.25, lam=0.0, num_epochs=10, isPrint=True):\n",
    "        \"\"\"\n",
    "        Train the network with SGD \n",
    "        \n",
    "        :param X_train: matrix of training features \n",
    "        :param y_train: matrix of vector-encoded training labels \n",
    "        :param X_train: optional matrix of validation features \n",
    "        :param y_train: optional matrix of vector-encoded validation labels \n",
    "        :param eta: learning rate \n",
    "        :param lam: regularization strength \n",
    "        :param num_epochs: number of epochs to run \n",
    "        :param isPrint: flag indicating to print training progress or not \n",
    "        \"\"\"\n",
    "        \n",
    "        # initialize shuffled indices \n",
    "        shuffled_inds = list(range(X_train.shape[0]))\n",
    "        \n",
    "        # loop over training epochs \n",
    "        for ep in range(num_epochs):\n",
    "            \n",
    "            # shuffle indices \n",
    "            np.random.shuffle(shuffled_inds)\n",
    "            \n",
    "            # loop over training examples \n",
    "            for ind in shuffled_inds:\n",
    "                \n",
    "                # TODO: back prop to get derivatives \n",
    "                self.back_prop(X_train[ind],y_train[ind])\n",
    "                # TODO: update weights and biases \n",
    "                for i in range(len(self.W)):\n",
    "                    self.W[i] = self.W[i] - (eta * self.dW[i]) - (eta*lam * self.W[i])\n",
    "                    self.b[i] = self.b[i]  - (eta * self.db[i])\n",
    "                \n",
    "            # occasionally print accuracy\n",
    "            if isPrint and ((ep+1)%5)==1:\n",
    "                self.epoch_report(ep, num_epochs, X_train, y_train, X_valid, y_valid)\n",
    "            if ((ep)%5)==0:\n",
    "                self.valid_acc.append(self.accuracy(X_valid, y_valid))\n",
    "                \n",
    "        # print final accuracy\n",
    "        if isPrint:\n",
    "            self.epoch_report(ep, num_epochs, X_train, y_train, X_valid, y_valid)\n",
    "                \n",
    "                    \n",
    "    def epoch_report(self, ep, num_epochs, X_train, y_train, X_valid, y_valid):\n",
    "        \"\"\"\n",
    "        Print the accuracy for the given epoch on training and validation data \n",
    "        \n",
    "        :param ep: the current epoch \n",
    "        :param num_epochs: the total number of epochs\n",
    "        :param X_train: matrix of training features \n",
    "        :param y_train: matrix of vector-encoded training labels \n",
    "        :param X_train: optional matrix of validation features \n",
    "        :param y_train: optional matrix of vector-encoded validation labels \n",
    "        \"\"\"\n",
    "        \n",
    "        print(\"epoch {:3d}/{:3d}: \".format(ep+1, num_epochs), end=\"\")\n",
    "        print(\"  train acc: {:8.3f}\".format(self.accuracy(X_train, y_train)), end=\"\")\n",
    "        if X_valid is not None: print(\"  valid acc: {:8.3f}\".format(self.accuracy(X_valid, y_valid)))\n",
    "        else: print(\"\")   \n",
    "    "
   ]
  },
  {
   "cell_type": "markdown",
   "metadata": {},
   "source": [
    "**Part A**: Complete the `forward_prop` function in the `Network` class to implement forward propagation.  Your function should take in a single training example `x` and propagate it forward in the network, setting the activations and activities on the hidden and output layers.  When you think you're done, execute the following unit test. "
   ]
  },
  {
   "cell_type": "code",
   "execution_count": 40,
   "metadata": {
    "ExecuteTime": {
     "end_time": "2018-04-20T02:46:58.761543Z",
     "start_time": "2018-04-20T02:46:58.749250Z"
    },
    "scrolled": true
   },
   "outputs": [
    {
     "name": "stderr",
     "output_type": "stream",
     "text": [
      "testForwardProp (__main__.TestNN) ... ok\n",
      "\n",
      "----------------------------------------------------------------------\n",
      "Ran 1 test in 0.001s\n",
      "\n",
      "OK\n"
     ]
    }
   ],
   "source": [
    "%run -i nn_tests.py \"prob 1A\""
   ]
  },
  {
   "cell_type": "markdown",
   "metadata": {},
   "source": [
    "**Part B**: Complete the `predict` function in the `Network` class to take in a matrix of features and return a matrix of one-hot-encoded label predictions. Your one-hot-encoded predictions should correspond to the output neuron with the largest activation.   \n",
    "\n",
    "When you think your `predict` function is working well, execute the following unit test. "
   ]
  },
  {
   "cell_type": "code",
   "execution_count": 41,
   "metadata": {
    "ExecuteTime": {
     "end_time": "2018-04-20T02:47:01.982781Z",
     "start_time": "2018-04-20T02:47:01.974911Z"
    },
    "scrolled": true
   },
   "outputs": [
    {
     "name": "stderr",
     "output_type": "stream",
     "text": [
      "testPredict (__main__.TestNN) ... ok\n",
      "\n",
      "----------------------------------------------------------------------\n",
      "Ran 1 test in 0.002s\n",
      "\n",
      "OK\n"
     ]
    }
   ],
   "source": [
    "%run -i nn_tests.py \"prob 1B\""
   ]
  },
  {
   "cell_type": "markdown",
   "metadata": {},
   "source": [
    "**Part C**: OK, now it's time to implement back propagation.  Complete the function ``back_prop`` in the ``Network`` class to use a single training example to compute the derivatives of the loss function with respect to the weights and the biases. As in the **Lecture 18** in-class notebook, you may assume that the loss function for a single training example is given by \n",
    "\n",
    "$$\n",
    "C(y, {\\bf a}^L) = \\frac{1}{2}\\|y - {\\bf a}^L\\|^2  \n",
    "$$\n",
    "\n",
    "When you think you're done, execute the following unit test. "
   ]
  },
  {
   "cell_type": "code",
   "execution_count": 42,
   "metadata": {
    "ExecuteTime": {
     "end_time": "2018-04-20T02:47:04.552132Z",
     "start_time": "2018-04-20T02:47:04.543799Z"
    },
    "scrolled": true
   },
   "outputs": [
    {
     "name": "stderr",
     "output_type": "stream",
     "text": [
      "testBackProp (__main__.TestNN) ... ok\n",
      "\n",
      "----------------------------------------------------------------------\n",
      "Ran 1 test in 0.002s\n",
      "\n",
      "OK\n"
     ]
    }
   ],
   "source": [
    "%run -i nn_tests.py \"prob 1C\""
   ]
  },
  {
   "cell_type": "markdown",
   "metadata": {},
   "source": [
    "**Part D**: Due to the fact that we hard-code our various activation functions, cost functions, and their derivatives, it is vital to do some debugging to make sure we haven't made a mistake.  \n",
    "\n",
    "One common technique is to do **numerical gradient checking**.  In this method we compute numerical approximations of the derivatives of the cost function with respect to the model parameters and compare them to the analytic versions computed by back prop.  \n",
    "\n",
    "Consider a cost function $C$ which is a function of all of the weights and biases in the network.  We can estimate the derivative of $C$ with respect to a particular parameter using a numerical finite difference technique.  This process looks as follows \n",
    "\n",
    "$$\n",
    "\\frac{\\partial C}{\\partial w_i} \\approx \\frac{C(w_1,\\ldots, w_i+\\epsilon, \\ldots w_N) - C(w_1,\\ldots, w_i-\\epsilon, \\ldots w_N)}{2\\epsilon}\n",
    "$$\n",
    "\n",
    "Evaluating the cost function with the perturbed weights can be accomplished by randomly choosing a training example, performing forward propagation, and then evaluating the cost function using the activations in the output layer.  \n",
    "\n",
    "I've given you starter code down below to do numerical gradient checking.  The code will compute the true and numerical values of the derivative of $C$ with respect to each parameter in the network and then plot the pairs of values as well as their relative errors.  Note that in practice this is extremely expensive, and we typically only check a few random parameters. \n",
    "\n",
    "When you believe your code is correct, you can test it by executing the following cell. Note that a good rule of thumb is to train the network for a handful of epochs before doing the gradient checking, to avoid any transient behavior that might occur at the very beginning of the training process. "
   ]
  },
  {
   "cell_type": "code",
   "execution_count": 48,
   "metadata": {
    "ExecuteTime": {
     "end_time": "2018-04-20T02:47:05.949886Z",
     "start_time": "2018-04-20T02:47:05.941572Z"
    },
    "scrolled": true
   },
   "outputs": [
    {
     "name": "stderr",
     "output_type": "stream",
     "text": [
      "testGradCheck (__main__.TestNN) ... "
     ]
    },
    {
     "name": "stdout",
     "output_type": "stream",
     "text": [
      "W[0][0,0]: true: -1.3004963108e-02  approx: -1.3004963099e-02 rel_err:  7.0509579675e-10\n",
      "W[0][0,1]: true: -2.6009926217e-02  approx: -2.6009926142e-02 rel_err:  2.8820098635e-09\n",
      "b[0][0]:   true: -1.3004963108e-02  approx: -1.3004963099e-02 rel_err:  7.0509579675e-10\n",
      "W[0][1,0]: true:  1.6376329584e-02  approx:  1.6376329573e-02 rel_err:  6.9308053638e-10\n",
      "W[0][1,1]: true:  3.2752659168e-02  approx:  3.2752659074e-02 rel_err:  2.8794491216e-09\n",
      "b[0][1]:   true:  1.6376329584e-02  approx:  1.6376329573e-02 rel_err:  6.9308053638e-10\n",
      "W[0][2,0]: true:  5.8198669976e-03  approx:  5.8198669942e-03 rel_err:  5.8312199343e-10\n",
      "W[0][2,1]: true:  1.1639733995e-02  approx:  1.1639733972e-02 rel_err:  1.9661633811e-09\n",
      "b[0][2]:   true:  5.8198669976e-03  approx:  5.8198669942e-03 rel_err:  5.8312199343e-10\n",
      "W[1][0,0]: true: -8.0587603260e-02  approx: -8.0587603231e-02 rel_err:  3.5080626162e-10\n",
      "W[1][0,1]: true: -5.4019485927e-02  approx: -5.4019485919e-02 rel_err:  1.5448203169e-10\n",
      "W[1][0,2]: true: -9.2875456518e-02  approx: -9.2875456473e-02 rel_err:  4.8059480585e-10\n",
      "b[1][0]:   true: -1.3460708919e-01  approx: -1.3460708905e-01 rel_err:  1.0102041745e-09\n",
      "W[1][1,0]: true:  8.2298072874e-02  approx:  8.2298072843e-02 rel_err:  3.7722700339e-10\n",
      "W[1][1,1]: true:  5.5166047998e-02  approx:  5.5166047988e-02 rel_err:  1.7013268550e-10\n",
      "W[1][1,2]: true:  9.4846735472e-02  approx:  9.4846735424e-02 rel_err:  5.0420872407e-10\n",
      "b[1][1]:   true:  1.3746412087e-01  approx:  1.3746412073e-01 rel_err:  1.0533044310e-09\n"
     ]
    },
    {
     "name": "stderr",
     "output_type": "stream",
     "text": [
      "ok\n",
      "\n",
      "----------------------------------------------------------------------\n",
      "Ran 1 test in 0.006s\n",
      "\n",
      "OK\n"
     ]
    }
   ],
   "source": [
    "%run -i nn_tests.py \"prob 1D\""
   ]
  },
  {
   "cell_type": "markdown",
   "metadata": {},
   "source": [
    "**Part E**: OK, now let's actually train a neural net!  Complete the missing code in ``train`` to loop over the training data in random order, call `back_prop` to get the derivatives, and then update the weights and the biases via SGD.  When you think you're done, execute the following code"
   ]
  },
  {
   "cell_type": "code",
   "execution_count": 54,
   "metadata": {
    "ExecuteTime": {
     "end_time": "2018-04-20T02:47:05.949886Z",
     "start_time": "2018-04-20T02:47:05.941572Z"
    },
    "scrolled": true
   },
   "outputs": [
    {
     "name": "stderr",
     "output_type": "stream",
     "text": [
      "testSGD (__main__.TestNN) ... ok\n",
      "\n",
      "----------------------------------------------------------------------\n",
      "Ran 1 test in 0.002s\n",
      "\n",
      "OK\n"
     ]
    }
   ],
   "source": [
    "%run -i nn_tests.py \"prob 1E\""
   ]
  },
  {
   "cell_type": "markdown",
   "metadata": {},
   "source": [
    "**Part F**: Last but not least, we should implement $\\ell$-$2$ regularization.  Modify your `train` function to incorporate regularization of the weights (but **not** the biases) in your SGD update.  As in the Lecture 18 slides, you should assume that the cost function with regularization takes the form \n",
    "\n",
    "$$\n",
    "C_\\lambda = C + \\frac{\\lambda}{2} \\displaystyle\\sum_{w} w^2\n",
    "$$\n",
    "\n",
    "where $\\sum_{w}$ sums over each weight in all layers of the network. Think carefully before you go making large changes to your code.  This modification is much simpler than you think. When you think you're done, execute the following unit test.  (Then go back and execute the test in **Part C** to make sure you didn't break anything.) "
   ]
  },
  {
   "cell_type": "code",
   "execution_count": 58,
   "metadata": {
    "ExecuteTime": {
     "end_time": "2018-04-20T02:47:07.378983Z",
     "start_time": "2018-04-20T02:47:07.368858Z"
    },
    "scrolled": true
   },
   "outputs": [
    {
     "name": "stderr",
     "output_type": "stream",
     "text": [
      "testRegularizedSGD (__main__.TestNN) ... ok\n",
      "\n",
      "----------------------------------------------------------------------\n",
      "Ran 1 test in 0.002s\n",
      "\n",
      "OK\n"
     ]
    }
   ],
   "source": [
    "%run -i nn_tests.py \"prob 1F\""
   ]
  },
  {
   "cell_type": "markdown",
   "metadata": {},
   "source": [
    "### [20 points] Problem 2: A Neural Network Classifier for Handwritten Digit Recognition \n",
    "***\n",
    "\n",
    "In this problem you'll use the Feed-Forward Neural Network framework you wrote in **Problem 1** to take an image of a handwritten digit and predict which digit it corresponds to.  \n",
    "\n",
    "![Samples of Handwritten Digits](mnist.png \"MNIST Digits\")\n",
    "\n",
    "To keep run times down we'll again only consider the subset of the MNIST data set consisting of the digits $3, 7, 8$ and $9$. \n",
    "\n",
    "**Part A**: Executing the following cells will load training and validation data and plot an example handwritten digit.  Explore the training and validation sets and answer the following questions: \n",
    "\n",
    "- How many pixels are in each image in the data set?  \n",
    "- How do the true labels correspond to the associated one-hot-encoded label vectors? \n",
    "- Give an example of a network architecture with a single hidden layer that is compatible with this data. \n"
   ]
  },
  {
   "cell_type": "code",
   "execution_count": 59,
   "metadata": {
    "ExecuteTime": {
     "end_time": "2018-04-20T03:43:07.591473Z",
     "start_time": "2018-04-20T03:43:07.485465Z"
    },
    "collapsed": true,
    "scrolled": true
   },
   "outputs": [],
   "source": [
    "X_train, y_train, X_valid, y_valid = pickle.load(gzip.open(\"../data/mnist21x21_3789_one_hot.pklz\", \"rb\"))"
   ]
  },
  {
   "cell_type": "code",
   "execution_count": 60,
   "metadata": {
    "ExecuteTime": {
     "end_time": "2018-04-20T03:43:09.330860Z",
     "start_time": "2018-04-20T03:43:09.239140Z"
    },
    "scrolled": true
   },
   "outputs": [
    {
     "data": {
      "image/png": "[encoded data removed]",
      "text/plain": [
       "<matplotlib.figure.Figure at 0x24a7abf2160>"
      ]
     },
     "metadata": {},
     "output_type": "display_data"
    }
   ],
   "source": [
    "def view_digit(x, label=None):\n",
    "    fig = plt.figure(figsize=(3,3))\n",
    "    plt.imshow(x.reshape(21,21), cmap='gray');\n",
    "    plt.xticks([]); plt.yticks([]);\n",
    "    if label: plt.xlabel(\"true: {}\".format(label), fontsize=16)\n",
    "        \n",
    "training_index = 2\n",
    "label_dict = dict({0:3, 1:7, 2:8, 3:9})\n",
    "view_digit(X_train[training_index], label_dict[np.argmax(y_train[training_index])])"
   ]
  },
  {
   "cell_type": "code",
   "execution_count": 61,
   "metadata": {},
   "outputs": [
    {
     "name": "stdout",
     "output_type": "stream",
     "text": [
      "Number of pixels in each image: 441\n"
     ]
    }
   ],
   "source": [
    "print(\"Number of pixels in each image: \" + str(len(X_train[0])))"
   ]
  },
  {
   "cell_type": "code",
   "execution_count": 68,
   "metadata": {},
   "outputs": [
    {
     "name": "stdout",
     "output_type": "stream",
     "text": [
      "[1 0 0 0]  represents the class/number:  3\n",
      "[0 1 0 0]  represents the class/number:  7\n",
      "[0 0 1 0]  represents the class/number:  8\n",
      "[0 0 0 1]  represents the class/number:  9\n"
     ]
    }
   ],
   "source": [
    "for i in [2,0,5,3]:\n",
    "    print(y_train[i],\" represents the class/number: \",label_dict[np.argmax(y_train[i])])"
   ]
  },
  {
   "cell_type": "markdown",
   "metadata": {},
   "source": [
    "On-hot encoding has a unique position for each of the class i.e., '1'(switched on) for the correct class and others are '0's (switched off). The classes are represented as above."
   ]
  },
  {
   "cell_type": "code",
   "execution_count": 69,
   "metadata": {},
   "outputs": [
    {
     "name": "stdout",
     "output_type": "stream",
     "text": [
      "A sample network architecture that is compatible with this data is Network(441,100,4)\n"
     ]
    }
   ],
   "source": [
    "print(\"A sample network architecture that is compatible with this data is Network(441,100,4)\")"
   ]
  },
  {
   "cell_type": "markdown",
   "metadata": {},
   "source": [
    "Where 441 is the number of input nodes in the input layer, 100 is the number of cells in the hidden layer and 4 is the number of cells in the output layer that gives away 4 binary values denoting the one-hot encoding of the predicted class."
   ]
  },
  {
   "cell_type": "markdown",
   "metadata": {},
   "source": [
    "**Part B**: Train a network with a single hidden layer containing $30$ neurons on the first $500$ training examples in the training set using a learning rate of $\\eta = 0.01$ for at least $50$ epochs.  What accuracy does your network achieve on the validation set?  Do you see any clear signs of overfitting?   "
   ]
  },
  {
   "cell_type": "code",
   "execution_count": 71,
   "metadata": {},
   "outputs": [
    {
     "name": "stdout",
     "output_type": "stream",
     "text": [
      "epoch   1/ 50:   train acc:    0.256  valid acc:    0.247\n",
      "epoch  11/ 50:   train acc:    0.628  valid acc:    0.627\n",
      "epoch  21/ 50:   train acc:    0.766  valid acc:    0.778\n",
      "epoch  31/ 50:   train acc:    0.816  valid acc:    0.826\n",
      "epoch  41/ 50:   train acc:    0.844  valid acc:    0.843\n",
      "epoch  50/ 50:   train acc:    0.868  valid acc:    0.861\n"
     ]
    }
   ],
   "source": [
    "nn = Network([441,30,4])\n",
    "nn.train(X_train[:500],y_train[:500],X_valid = X_valid, y_valid = y_valid,eta=0.01,num_epochs=50)"
   ]
  },
  {
   "cell_type": "markdown",
   "metadata": {},
   "source": [
    "On the validation set, the network achieves an accuracy of 86.1 %\n",
    "And No, there are no signs of over-fitting."
   ]
  },
  {
   "cell_type": "markdown",
   "metadata": {},
   "source": [
    "**Part C**: Modify the `Network` class so that it stores the accuracies on the training and validation data every $5$ epochs during the training process. Now increase the number of neurons in the hidden layer to $100$.  On a single set of axes, plot the **validation accuracy** vs epoch for networks trained on the full training set for at least 50 epochs using the learning rates $\\eta = 0.01$, $\\eta = 0.25$ and $\\eta = 1.5$.  Which learning rate seems to perform the best? What is the best accuracy achieved on the validation set?   "
   ]
  },
  {
   "cell_type": "code",
   "execution_count": 78,
   "metadata": {},
   "outputs": [
    {
     "name": "stdout",
     "output_type": "stream",
     "text": [
      "epoch   1/ 50:   train acc:    0.558  valid acc:    0.580\n",
      "epoch   6/ 50:   train acc:    0.697  valid acc:    0.697\n",
      "epoch  11/ 50:   train acc:    0.900  valid acc:    0.897\n",
      "epoch  16/ 50:   train acc:    0.928  valid acc:    0.914\n",
      "epoch  21/ 50:   train acc:    0.939  valid acc:    0.919\n",
      "epoch  26/ 50:   train acc:    0.945  valid acc:    0.921\n",
      "epoch  31/ 50:   train acc:    0.949  valid acc:    0.929\n",
      "epoch  36/ 50:   train acc:    0.953  valid acc:    0.930\n",
      "epoch  41/ 50:   train acc:    0.956  valid acc:    0.933\n",
      "epoch  46/ 50:   train acc:    0.958  valid acc:    0.930\n",
      "epoch  50/ 50:   train acc:    0.960  valid acc:    0.928\n",
      "epoch   1/ 50:   train acc:    0.936  valid acc:    0.916\n",
      "epoch   6/ 50:   train acc:    0.975  valid acc:    0.941\n",
      "epoch  11/ 50:   train acc:    0.982  valid acc:    0.946\n",
      "epoch  16/ 50:   train acc:    0.987  valid acc:    0.946\n",
      "epoch  21/ 50:   train acc:    0.989  valid acc:    0.950\n",
      "epoch  26/ 50:   train acc:    0.991  valid acc:    0.950\n",
      "epoch  31/ 50:   train acc:    0.991  valid acc:    0.952\n",
      "epoch  36/ 50:   train acc:    0.992  valid acc:    0.952\n",
      "epoch  41/ 50:   train acc:    0.993  valid acc:    0.953\n",
      "epoch  46/ 50:   train acc:    0.993  valid acc:    0.950\n",
      "epoch  50/ 50:   train acc:    0.993  valid acc:    0.954\n",
      "epoch   1/ 50:   train acc:    0.581  valid acc:    0.556\n",
      "epoch   6/ 50:   train acc:    0.950  valid acc:    0.935\n",
      "epoch  11/ 50:   train acc:    0.965  valid acc:    0.938\n",
      "epoch  16/ 50:   train acc:    0.978  valid acc:    0.948\n",
      "epoch  21/ 50:   train acc:    0.984  valid acc:    0.954\n",
      "epoch  26/ 50:   train acc:    0.988  valid acc:    0.959\n",
      "epoch  31/ 50:   train acc:    0.989  valid acc:    0.960\n",
      "epoch  36/ 50:   train acc:    0.993  valid acc:    0.963\n",
      "epoch  41/ 50:   train acc:    0.993  valid acc:    0.965\n",
      "epoch  46/ 50:   train acc:    0.994  valid acc:    0.968\n",
      "epoch  50/ 50:   train acc:    0.994  valid acc:    0.967\n"
     ]
    }
   ],
   "source": [
    "nn1 = Network([441,100,4])\n",
    "nn1.train(X_train,y_train,X_valid = X_valid, y_valid = y_valid,eta=0.01,num_epochs=50)\n",
    "v1 = nn1.valid_acc\n",
    "nn2 = Network([441,100,4])\n",
    "nn2.train(X_train,y_train,X_valid = X_valid, y_valid = y_valid,eta=0.25,num_epochs=50)\n",
    "v2 = nn2.valid_acc\n",
    "nn3 = Network([441,100,4])\n",
    "nn3.train(X_train,y_train,X_valid = X_valid, y_valid = y_valid,eta=1.5,num_epochs=50)\n",
    "v3 = nn3.valid_acc"
   ]
  },
  {
   "cell_type": "code",
   "execution_count": 80,
   "metadata": {},
   "outputs": [
    {
     "data": {
      "text/plain": [
       "Text(0,0.5,'Validation Accuracy')"
      ]
     },
     "execution_count": 80,
     "metadata": {},
     "output_type": "execute_result"
    },
    {
     "data": {
      "image/png": "[encoded data removed]",
      "text/plain": [
       "<matplotlib.figure.Figure at 0x24a7ad42860>"
      ]
     },
     "metadata": {},
     "output_type": "display_data"
    }
   ],
   "source": [
    "x = np.linspace(5,50,10)\n",
    "plt.plot(x,v1,label='eta=0.01')\n",
    "plt.plot(x,v2,label='eta=0.25')\n",
    "plt.plot(x,v3,label='eta=1.5')\n",
    "plt.legend()\n",
    "plt.xlabel('Epochs')\n",
    "plt.ylabel('Validation Accuracy')"
   ]
  },
  {
   "cell_type": "markdown",
   "metadata": {},
   "source": [
    "The learning rate of 1.5 seems ot perform the best.\n",
    "The best accuracy achieved on the validation set is 0.968"
   ]
  },
  {
   "cell_type": "markdown",
   "metadata": {},
   "source": [
    "**Part D**:  Now let's see if we can get better results with regularization. Using the best learning rate you found in **Part C**, on a single set of axes, plot the **validation accuracy** vs epoch for networks trained on the full training set for at least 50 epochs using the regularization strengths $\\lambda = 10^{-6}$, $\\lambda = 10^{-4}$ and $\\lambda = 10^{-2}$.  Which regularization strength seems to perform the best? What is the best accuracy achieved on the validation set?   "
   ]
  },
  {
   "cell_type": "code",
   "execution_count": 81,
   "metadata": {
    "scrolled": true
   },
   "outputs": [
    {
     "name": "stdout",
     "output_type": "stream",
     "text": [
      "epoch   1/ 50:   train acc:    0.810  valid acc:    0.796\n",
      "epoch   6/ 50:   train acc:    0.885  valid acc:    0.860\n",
      "epoch  11/ 50:   train acc:    0.958  valid acc:    0.940\n",
      "epoch  16/ 50:   train acc:    0.974  valid acc:    0.954\n",
      "epoch  21/ 50:   train acc:    0.947  valid acc:    0.920\n",
      "epoch  26/ 50:   train acc:    0.983  valid acc:    0.962\n",
      "epoch  31/ 50:   train acc:    0.987  valid acc:    0.965\n",
      "epoch  36/ 50:   train acc:    0.981  valid acc:    0.951\n",
      "epoch  41/ 50:   train acc:    0.988  valid acc:    0.960\n",
      "epoch  46/ 50:   train acc:    0.989  valid acc:    0.965\n",
      "epoch  50/ 50:   train acc:    0.978  valid acc:    0.954\n",
      "epoch   1/ 50:   train acc:    0.925  valid acc:    0.901\n",
      "epoch   6/ 50:   train acc:    0.942  valid acc:    0.928\n",
      "epoch  11/ 50:   train acc:    0.948  valid acc:    0.925\n",
      "epoch  16/ 50:   train acc:    0.970  valid acc:    0.951\n",
      "epoch  21/ 50:   train acc:    0.953  valid acc:    0.924\n",
      "epoch  26/ 50:   train acc:    0.950  valid acc:    0.928\n",
      "epoch  31/ 50:   train acc:    0.966  valid acc:    0.944\n",
      "epoch  36/ 50:   train acc:    0.962  valid acc:    0.944\n",
      "epoch  41/ 50:   train acc:    0.965  valid acc:    0.944\n",
      "epoch  46/ 50:   train acc:    0.972  valid acc:    0.957\n",
      "epoch  50/ 50:   train acc:    0.857  valid acc:    0.837\n",
      "epoch   1/ 50:   train acc:    0.796  valid acc:    0.812\n",
      "epoch   6/ 50:   train acc:    0.606  valid acc:    0.605\n",
      "epoch  11/ 50:   train acc:    0.474  valid acc:    0.482\n",
      "epoch  16/ 50:   train acc:    0.329  valid acc:    0.344\n",
      "epoch  21/ 50:   train acc:    0.466  valid acc:    0.479\n",
      "epoch  26/ 50:   train acc:    0.488  valid acc:    0.489\n",
      "epoch  31/ 50:   train acc:    0.577  valid acc:    0.561\n",
      "epoch  36/ 50:   train acc:    0.576  valid acc:    0.581\n",
      "epoch  41/ 50:   train acc:    0.517  valid acc:    0.517\n",
      "epoch  46/ 50:   train acc:    0.410  valid acc:    0.412\n",
      "epoch  50/ 50:   train acc:    0.601  valid acc:    0.607\n"
     ]
    }
   ],
   "source": [
    "nn4 = Network([441,100,4])\n",
    "nn4.train(X_train,y_train,X_valid = X_valid, y_valid = y_valid,eta=1.5,lam=10**-6,num_epochs=50)\n",
    "v4 = nn4.valid_acc\n",
    "nn5 = Network([441,100,4])\n",
    "nn5.train(X_train,y_train,X_valid = X_valid, y_valid = y_valid,eta=1.5,lam=10**-4,num_epochs=50)\n",
    "v5 = nn5.valid_acc\n",
    "nn6 = Network([441,100,4])\n",
    "nn6.train(X_train,y_train,X_valid = X_valid, y_valid = y_valid,eta=1.5,lam=10**-2,num_epochs=50)\n",
    "v6 = nn6.valid_acc"
   ]
  },
  {
   "cell_type": "code",
   "execution_count": 83,
   "metadata": {},
   "outputs": [
    {
     "data": {
      "text/plain": [
       "Text(0,0.5,'Validation Accuracy')"
      ]
     },
     "execution_count": 83,
     "metadata": {},
     "output_type": "execute_result"
    },
    {
     "data": {
      "image/png": "[encoded data removed]",
      "text/plain": [
       "<matplotlib.figure.Figure at 0x24a7cea16d8>"
      ]
     },
     "metadata": {},
     "output_type": "display_data"
    }
   ],
   "source": [
    "plt.plot(x,v4,label='lam=10^-6')\n",
    "plt.plot(x,v5,label='lam=10^-4')\n",
    "plt.plot(x,v6,label='lam=10^-2')\n",
    "plt.legend()\n",
    "plt.xlabel('Epochs')\n",
    "plt.ylabel('Validation Accuracy')"
   ]
  },
  {
   "cell_type": "markdown",
   "metadata": {},
   "source": [
    "The regularization strength of 10^-6 seems ot perform the best.\n",
    "The best accuracy achieved on the validation set is 0.965"
   ]
  },
  {
   "cell_type": "markdown",
   "metadata": {},
   "source": [
    "**Part E**:  Now let's see if we can get better results with different network architectures. On a single set of axes, plot the **validation accuracy** vs epoch for networks trained on the full training set for at least 50 epochs using the architecture from **Part D** as well as two other architectures.  Which architecture seems to perform the best? What is the best accuracy achieved on the validation set?   "
   ]
  },
  {
   "cell_type": "code",
   "execution_count": 84,
   "metadata": {
    "scrolled": true
   },
   "outputs": [
    {
     "name": "stdout",
     "output_type": "stream",
     "text": [
      "epoch   1/ 50:   train acc:    0.789  valid acc:    0.783\n",
      "epoch   6/ 50:   train acc:    0.961  valid acc:    0.937\n",
      "epoch  11/ 50:   train acc:    0.972  valid acc:    0.949\n",
      "epoch  16/ 50:   train acc:    0.983  valid acc:    0.957\n",
      "epoch  21/ 50:   train acc:    0.982  valid acc:    0.960\n",
      "epoch  26/ 50:   train acc:    0.983  valid acc:    0.957\n",
      "epoch  31/ 50:   train acc:    0.981  valid acc:    0.950\n",
      "epoch  36/ 50:   train acc:    0.963  valid acc:    0.929\n",
      "epoch  41/ 50:   train acc:    0.995  valid acc:    0.967\n",
      "epoch  46/ 50:   train acc:    0.995  valid acc:    0.968\n",
      "epoch  50/ 50:   train acc:    0.995  valid acc:    0.970\n",
      "epoch   1/ 50:   train acc:    0.523  valid acc:    0.517\n",
      "epoch   6/ 50:   train acc:    0.727  valid acc:    0.728\n",
      "epoch  11/ 50:   train acc:    0.740  valid acc:    0.740\n",
      "epoch  16/ 50:   train acc:    0.872  valid acc:    0.870\n",
      "epoch  21/ 50:   train acc:    0.947  valid acc:    0.929\n",
      "epoch  26/ 50:   train acc:    0.960  valid acc:    0.935\n",
      "epoch  31/ 50:   train acc:    0.970  valid acc:    0.939\n",
      "epoch  36/ 50:   train acc:    0.977  valid acc:    0.959\n",
      "epoch  41/ 50:   train acc:    0.984  valid acc:    0.953\n",
      "epoch  46/ 50:   train acc:    0.987  valid acc:    0.957\n",
      "epoch  50/ 50:   train acc:    0.970  valid acc:    0.946\n",
      "epoch   1/ 50:   train acc:    0.895  valid acc:    0.884\n",
      "epoch   6/ 50:   train acc:    0.890  valid acc:    0.880\n",
      "epoch  11/ 50:   train acc:    0.952  valid acc:    0.924\n",
      "epoch  16/ 50:   train acc:    0.959  valid acc:    0.937\n",
      "epoch  21/ 50:   train acc:    0.952  valid acc:    0.937\n",
      "epoch  26/ 50:   train acc:    0.939  valid acc:    0.929\n",
      "epoch  31/ 50:   train acc:    0.957  valid acc:    0.936\n",
      "epoch  36/ 50:   train acc:    0.942  valid acc:    0.926\n",
      "epoch  41/ 50:   train acc:    0.940  valid acc:    0.921\n",
      "epoch  46/ 50:   train acc:    0.941  valid acc:    0.933\n",
      "epoch  50/ 50:   train acc:    0.944  valid acc:    0.925\n"
     ]
    }
   ],
   "source": [
    "nn7 = Network([441,100,4])\n",
    "nn7.train(X_train,y_train,X_valid = X_valid, y_valid = y_valid,eta=1.5,lam=10**-6,num_epochs=50)\n",
    "v7 = nn7.valid_acc\n",
    "nn8 = Network([441,200,4])\n",
    "nn8.train(X_train,y_train,X_valid = X_valid, y_valid = y_valid,eta=1.5,lam=10**-6,num_epochs=50)\n",
    "v8 = nn8.valid_acc\n",
    "nn9 = Network([441,100,100,4])\n",
    "nn9.train(X_train,y_train,X_valid = X_valid, y_valid = y_valid,eta=1.5,lam=10**-6,num_epochs=50)\n",
    "v9 = nn9.valid_acc"
   ]
  },
  {
   "cell_type": "code",
   "execution_count": 85,
   "metadata": {},
   "outputs": [
    {
     "data": {
      "text/plain": [
       "Text(0,0.5,'Validation Accuracy')"
      ]
     },
     "execution_count": 85,
     "metadata": {},
     "output_type": "execute_result"
    },
    {
     "data": {
      "image/png": "[encoded data removed]",
      "text/plain": [
       "<matplotlib.figure.Figure at 0x24a7cf01b00>"
      ]
     },
     "metadata": {},
     "output_type": "display_data"
    }
   ],
   "source": [
    "plt.plot(x,v7,label='100-cell hidden layer')\n",
    "plt.plot(x,v8,label='200-cell hidden layer')\n",
    "plt.plot(x,v9,label='two 100-cell hidden layers')\n",
    "plt.legend()\n",
    "plt.xlabel('Epochs')\n",
    "plt.ylabel('Validation Accuracy')"
   ]
  },
  {
   "cell_type": "markdown",
   "metadata": {},
   "source": [
    "Three models are trained,\n",
    "1. model from Part D \n",
    "2. Part D model with 200 hidden layer cells \n",
    "3. Part D model with 2 hidden layers with 100 cells each \n",
    "\n",
    "Based on the validation accuracies, the model 1 performs the best. The best accuracy achieved on the validation set is 0.970"
   ]
  },
  {
   "cell_type": "markdown",
   "metadata": {},
   "source": [
    "### [max 20 points] Extra Credit: Improving Network Performance \n",
    "***\n",
    "\n",
    "See if you can get better performance by exploring advanced techniques.  Things you might try are: \n",
    "\n",
    "- Implementing **Mini-Batch** Stochastic Gradient Descent \n",
    "- Experimenting with different activation functions (like tanh and **Leaky** ReLU)\n",
    "- Experimenting with different loss functions (like cross-entropy) \n",
    "\n",
    "For more detailed discussion of these techniques it'll be helpful to look at Chapter 3 of [Nielsen](http://neuralnetworksanddeeplearning.com/chap3.html). \n",
    "\n",
    "The amount of extra credit you receive will be proportional to the number of above suggested tasks that you complete.  Further, to receive credit for the tasks you must not only implement, but also provide evidence that you've tuned the network to make it work.  Comment on the performance differences between the original `Network` implementation and your new networks with bells and whistles. \n",
    "\n",
    "**Important Note**: Don't do any of these things in the original `Network` class, because you'll almost certainly break the unit tests.  Copy the `Network` class from above and rename it `BetterNetwork` (or something) and modify the new class. \n"
   ]
  },
  {
   "cell_type": "code",
   "execution_count": null,
   "metadata": {
    "collapsed": true,
    "scrolled": true
   },
   "outputs": [],
   "source": []
  }
 ],
 "metadata": {
  "kernelspec": {
   "display_name": "Python 3",
   "language": "python",
   "name": "python3"
  },
  "language_info": {
   "codemirror_mode": {
    "name": "ipython",
    "version": 3
   },
   "file_extension": ".py",
   "mimetype": "text/x-python",
   "name": "python",
   "nbconvert_exporter": "python",
   "pygments_lexer": "ipython3",
   "version": "3.6.3"
  }
 },
 "nbformat": 4,
 "nbformat_minor": 2
}

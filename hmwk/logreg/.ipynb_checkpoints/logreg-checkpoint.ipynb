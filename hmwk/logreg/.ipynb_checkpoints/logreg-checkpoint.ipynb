{
 "cells": [
  {
   "cell_type": "markdown",
   "metadata": {},
   "source": [
    "# Logistic Regression and SGD Homework \n",
    "***\n",
    "**Name**: Pranav Kumar Sivakumar \n",
    "***\n",
    "\n",
    "This assignment is due on Moodle by **5pm on Friday February 9th**. Submit only this Jupyter notebook to Moodle.  Do not compress it using tar, rar, zip, etc. Your solutions to analysis questions should be done in Markdown directly below the associated question.  Remember that you are encouraged to discuss the problems with your instructors and classmates, but **you must write all code and solutions on your own**.  For a refresher on the course **Collaboration Policy** click [here](https://github.com/chrisketelsen/CSCI5622-Machine-Learning/blob/master/resources/syllabus.md#collaboration-policy)\n",
    "\n"
   ]
  },
  {
   "cell_type": "markdown",
   "metadata": {},
   "source": [
    "## Overview \n",
    "***\n",
    "\n",
    "\n",
    "In this homework you'll implement stochastic gradient ascent for logistic regression and you'll apply it to the task of determining whether documents are talking about automobiles or motorcycles.\n",
    "\n",
    "<br>\n",
    "\n",
    "![autos_motorcycles](autos_motorcycles.jpg \"A car and a motorcycle\")\n",
    "\n",
    "\n",
    "<br>\n",
    "\n",
    "You should not use any libraries that implement any of the functionality of logistic regression for this assignment; logistic regression is implemented in Scikit-Learn, but you should do everything by hand now. You'll be able to use library implementations of logistic regression in the future.\n",
    "\n",
    "Here are the rules: \n",
    "\n",
    "- Do **NOT** load or use any Python packages that are not available in Anaconda 3.6. \n",
    "- Some problems with code may be autograded.  If we provide a function or class API **do not** change it.\n",
    "- Do not change the location of the data or data directory.  Use only relative paths to access the data. "
   ]
  },
  {
   "cell_type": "code",
   "execution_count": 2,
   "metadata": {
    "collapsed": true
   },
   "outputs": [],
   "source": [
    "import numpy as np\n",
    "import matplotlib.pylab as plt\n",
    "%matplotlib inline "
   ]
  },
  {
   "cell_type": "markdown",
   "metadata": {},
   "source": [
    "### [5 points] Problem 1: Loading and Exploring the Data\n",
    "***\n",
    "\n",
    "The `Example` class will be used to store the features and labels associated with a single training or test example.  The `read_data` function will read in the text data and split it into training and test sets.  \n",
    "\n",
    " Load the data and then do the following: \n",
    "- Report the number of words in the vocabulary \n",
    "- Explain how the code is creating features (i.e. what text model is being used). \n",
    "- Go into the raw text files in the data directory and figure out which label (0/1) refers to which class of document (automobiles or motorcycles)"
   ]
  },
  {
   "cell_type": "code",
   "execution_count": 3,
   "metadata": {
    "collapsed": true
   },
   "outputs": [],
   "source": [
    "kSEED = 1735\n",
    "kBIAS = \"BIAS_CONSTANT\"\n",
    "\n",
    "np.random.seed(kSEED)\n",
    "\n",
    "class Example:\n",
    "    \"\"\"\n",
    "    Class to represent a document example\n",
    "    \"\"\"\n",
    "    def __init__(self, label, words, vocab):\n",
    "        \"\"\"\n",
    "        Create a new example\n",
    "\n",
    "        :param label: The label (0 / 1) of the example\n",
    "        :param words: The words in a list of \"word:count\" format\n",
    "        :param vocab: The vocabulary to use as features (list)\n",
    "        \"\"\"\n",
    "        self.nonzero = {}\n",
    "        self.y = label\n",
    "        self.x = np.zeros(len(vocab))\n",
    "        for word, count in [x.split(\":\") for x in words]:\n",
    "            if word in vocab:\n",
    "                assert word != kBIAS, \"Bias can't actually appear in document\"\n",
    "                self.x[vocab.index(word)] += float(count)\n",
    "                self.nonzero[vocab.index(word)] = word\n",
    "        self.x[0] = 1\n",
    "\n",
    "def read_dataset(positive, negative, vocab, train_frac=0.9):\n",
    "    \"\"\"\n",
    "    Reads in a text dataset with a given vocabulary\n",
    "\n",
    "    :param positive: Positive examples\n",
    "    :param negative: Negative examples\n",
    "    :param vocab: A list of vocabulary words\n",
    "    :param test_frac: How much of the data should be reserved for test\n",
    "    \"\"\"\n",
    "\n",
    "    vocab = [x.split(\"\\t\")[0] for x in open(vocab, 'r') if '\\t' in x]\n",
    "    assert vocab[0] == kBIAS, \\\n",
    "        \"First vocab word must be bias term (was %s)\" % vocab[0]\n",
    "\n",
    "    train_set = []\n",
    "    test_set = []\n",
    "    for label, input in [(1, positive), (0, negative)]:\n",
    "        for line in open(input):\n",
    "            ex = Example(label, line.split(), vocab)\n",
    "            if np.random.random() <= train_frac:\n",
    "                train_set.append(ex)\n",
    "            else:\n",
    "                test_set.append(ex)\n",
    "\n",
    "    # Shuffle the data \n",
    "    np.random.shuffle(train_set)\n",
    "    np.random.shuffle(test_set)\n",
    "\n",
    "    return train_set, test_set, vocab"
   ]
  },
  {
   "cell_type": "code",
   "execution_count": 4,
   "metadata": {
    "collapsed": true
   },
   "outputs": [],
   "source": [
    "pos_fname = \"../data/autos_motorcycles/positive\"\n",
    "neg_fname = \"../data/autos_motorcycles/negative\"\n",
    "voc_fname = \"../data/autos_motorcycles/vocab\"\n",
    "train_set, test_set, vocab = read_dataset(pos_fname, neg_fname, voc_fname)"
   ]
  },
  {
   "cell_type": "code",
   "execution_count": 5,
   "metadata": {},
   "outputs": [
    {
     "name": "stdout",
     "output_type": "stream",
     "text": [
      "The number of words in the vocabulary is 5327\n"
     ]
    }
   ],
   "source": [
    "print('The number of words in the vocabulary is %d' %len(vocab))"
   ]
  },
  {
   "cell_type": "markdown",
   "metadata": {},
   "source": [
    "The text files containing the positive and the negative examples are read and counted with respect to the index(or position) in the vocabulary based on the labels as well. It is randomly split into training set and test set with a ratio of 9:1. This type of text model is called Bag of Words model. "
   ]
  },
  {
   "cell_type": "markdown",
   "metadata": {},
   "source": [
    "After checking the raw text files in the data directory and it appears to be that label 0 refers to class automobiles and 1 refers to class motorcycles."
   ]
  },
  {
   "cell_type": "markdown",
   "metadata": {},
   "source": [
    "### [25 points] Problem 2: Implementing SGD with Lazy Sparse Regularization\n",
    "***\n",
    "\n",
    "We've given you a class `LogReg` below which will train a logistic regression classifier to predict whether a document is talking about automobiles or motorcycles. \n",
    "\n",
    "**Part A**: In this problem you will modify the `sgd_update` function to perform **unregularized** stochastic gradient descent updates of the weights. Note that you should only update the weights for **non-zero** features, i.e. weights associated with words that appear in the current training example. The code below this cell demonstrates how to instantiate the class and train the classifier.   \n",
    "\n",
    "We've also given you unit tests in the next cell based on the simple example worked out in  the Lecture 4 in-class notebook.  At first your code will fail both of them. When your code is working you should pass tests called `test_unreg` and `test_learnrate`.  Do not move on to **Part A** until your code passes both of them. "
   ]
  },
  {
   "cell_type": "code",
   "execution_count": 91,
   "metadata": {
    "collapsed": true
   },
   "outputs": [],
   "source": [
    "class LogReg:\n",
    "    def __init__(self, train_set, test_set, lam, eta=0.1):\n",
    "        \"\"\"\n",
    "        Create a logistic regression classifier\n",
    "\n",
    "        :param train_set: A set of training examples\n",
    "        :param test_set: A set of test examples \n",
    "        :param lam: Regularization parameter\n",
    "        :param eta: The learning rate to use \n",
    "        \"\"\"\n",
    "        \n",
    "        # Store training and test sets \n",
    "        self.train_set = train_set\n",
    "        self.test_set = test_set \n",
    "        \n",
    "        # Initialize vector of weights to zero  \n",
    "        self.w = np.zeros_like(train_set[0].x)\n",
    "        \n",
    "        # Store regularization parameter and eta function \n",
    "        self.lam = lam\n",
    "        self.eta = eta\n",
    "        \n",
    "        # Create dictionary for lazy-sparse regularization\n",
    "        self.last_update = dict()\n",
    "\n",
    "        # Make sure regularization parameter is not negative \n",
    "        assert self.lam>= 0, \"Regularization parameter must be non-negative\"\n",
    "        \n",
    "        # Empty lists to store NLL and accuracy on train and test sets \n",
    "        self.train_nll = []\n",
    "        self.test_nll = []\n",
    "        self.train_acc = []\n",
    "        self.test_acc = []\n",
    "        \n",
    "    def sigmoid(self,score, threshold=20.0):\n",
    "        \"\"\"\n",
    "        Prevent overflow of exp by capping activation at 20.\n",
    "        You do not need to change this function. \n",
    "\n",
    "        :param score: A real valued number to convert into a number between 0 and 1\n",
    "        \"\"\"\n",
    "\n",
    "        # if score > threshold, cap value at score \n",
    "        if abs(score) > threshold:\n",
    "            score = threshold * np.sign(score)\n",
    "\n",
    "        return 1.0 / (1.0 + np.exp(-score)) \n",
    "\n",
    "    def compute_progress(self, examples):\n",
    "        \"\"\"\n",
    "        Given a set of examples, compute the NLL and accuracy\n",
    "        You shouldn't need to change this function. \n",
    "\n",
    "        :param examples: The dataset to score\n",
    "        :return: A tuple of (log probability, accuracy)\n",
    "        \"\"\"\n",
    "\n",
    "        NLL = 0.0\n",
    "        num_correct = 0\n",
    "        for ex in examples:\n",
    "            # compute prob prediction\n",
    "            p = self.sigmoid(self.w.dot(ex.x))\n",
    "            # update negative log likelihood\n",
    "            NLL = NLL - np.log(p) if ex.y==1 else NLL - np.log(1.0-p)\n",
    "            # update number correct \n",
    "            num_correct += 1 if np.floor(p+.5)==ex.y else 0\n",
    "\n",
    "        return NLL, float(num_correct) / float(len(examples))\n",
    "    \n",
    "    def train(self, num_epochs=1, isVerbose=False, report_step=5):\n",
    "        \"\"\"\n",
    "        Train the logistic regression classifier on the training data \n",
    "\n",
    "        :param num_epochs: number of full passes over data to perform \n",
    "        :param isVerbose: boolean indicating whether to print progress\n",
    "        :param report_step: how many iterations between recording progress\n",
    "        \"\"\"\n",
    "        \n",
    "        iteration = 0\n",
    "        # Perform an epoch \n",
    "        for pp in range(num_epochs):\n",
    "            # shuffle the data  \n",
    "            np.random.shuffle(self.train_set)\n",
    "            # loop over each training example\n",
    "            for ex in self.train_set:\n",
    "                # perform SGD update of weights \n",
    "                self.sgd_update(ex, iteration)\n",
    "                # record progress \n",
    "                if iteration % report_step == 1:\n",
    "                    train_nll, train_acc = self.compute_progress(self.train_set)\n",
    "                    test_nll, test_acc = self.compute_progress(self.test_set)\n",
    "                    self.train_nll.append(train_nll)\n",
    "                    self.test_nll.append(test_nll)\n",
    "                    self.train_acc.append(train_acc)\n",
    "                    self.test_acc.append(test_acc)\n",
    "                    if isVerbose:\n",
    "                        print(\"Update {: 5d}  TrnNLL {: 8.3f}  TstNLL {: 8.3f}  TrnA {:.3f}  TstA {:.3f}\"\n",
    "                             .format(iteration-1, train_nll, test_nll, train_acc, test_acc))\n",
    "                iteration += 1\n",
    "    \n",
    "    def sgd_update(self, train_example, iteration):\n",
    "        \"\"\"\n",
    "        Compute a stochastic gradient update to improve the NLL \n",
    "\n",
    "        :param train_example: The example to take the gradient with respect to\n",
    "        :param iteration: The current iteration (an integer)\n",
    "        \"\"\"\n",
    "        \n",
    "        # TODO implement LSR updates of weights \n",
    "        self.w = self.w \n",
    "        cal = 1-(2*self.eta*self.lam)\n",
    "        muii = self.sigmoid(self.w.dot(train_example.x))- train_example.y\n",
    "        for key in train_example.nonzero:\n",
    "            self.w[key] = self.w[key] - (self.eta * muii * train_example.x[key])\n",
    "            if key in self.last_update:\n",
    "                self.w[key] = self.w[key] * (cal**(iteration-self.last_update[key]+1))\n",
    "            else:\n",
    "                self.w[key] = self.w[key] * (cal**(iteration+1))\n",
    "            self.last_update[key]=iteration +1\n",
    "        self.w[0] = self.w[0]  - (self.eta * muii)\n",
    "        return self.w"
   ]
  },
  {
   "cell_type": "code",
   "execution_count": 92,
   "metadata": {},
   "outputs": [
    {
     "name": "stdout",
     "output_type": "stream",
     "text": [
      "Update     0  TrnNLL  760.813  TstNLL   78.397  TrnA 0.498  TstA 0.534\n",
      "Update     5  TrnNLL  571.809  TstNLL   62.634  TrnA 0.717  TstA 0.707\n",
      "Update    10  TrnNLL  530.891  TstNLL   59.793  TrnA 0.737  TstA 0.698\n",
      "Update    15  TrnNLL  513.176  TstNLL   58.195  TrnA 0.755  TstA 0.724\n",
      "Update    20  TrnNLL  512.286  TstNLL   54.456  TrnA 0.755  TstA 0.767\n",
      "Update    25  TrnNLL  444.662  TstNLL   49.824  TrnA 0.800  TstA 0.802\n",
      "Update    30  TrnNLL  439.999  TstNLL   48.726  TrnA 0.809  TstA 0.810\n",
      "Update    35  TrnNLL  430.301  TstNLL   47.502  TrnA 0.814  TstA 0.819\n",
      "Update    40  TrnNLL  424.245  TstNLL   46.419  TrnA 0.818  TstA 0.819\n",
      "Update    45  TrnNLL  457.499  TstNLL   49.872  TrnA 0.798  TstA 0.793\n",
      "Update    50  TrnNLL  371.657  TstNLL   40.597  TrnA 0.854  TstA 0.853\n",
      "Update    55  TrnNLL  353.206  TstNLL   38.423  TrnA 0.861  TstA 0.853\n",
      "Update    60  TrnNLL  345.896  TstNLL   38.429  TrnA 0.861  TstA 0.836\n",
      "Update    65  TrnNLL  337.626  TstNLL   37.370  TrnA 0.867  TstA 0.862\n",
      "Update    70  TrnNLL  333.786  TstNLL   36.354  TrnA 0.868  TstA 0.871\n",
      "Update    75  TrnNLL  318.597  TstNLL   34.921  TrnA 0.874  TstA 0.897\n",
      "Update    80  TrnNLL  310.641  TstNLL   34.016  TrnA 0.880  TstA 0.905\n",
      "Update    85  TrnNLL  335.562  TstNLL   36.280  TrnA 0.870  TstA 0.888\n",
      "Update    90  TrnNLL  325.416  TstNLL   35.150  TrnA 0.879  TstA 0.871\n",
      "Update    95  TrnNLL  332.984  TstNLL   35.764  TrnA 0.874  TstA 0.862\n",
      "Update   100  TrnNLL  328.481  TstNLL   37.466  TrnA 0.872  TstA 0.853\n",
      "Update   105  TrnNLL  333.955  TstNLL   37.701  TrnA 0.871  TstA 0.888\n",
      "Update   110  TrnNLL  335.017  TstNLL   39.921  TrnA 0.876  TstA 0.862\n",
      "Update   115  TrnNLL  416.179  TstNLL   39.057  TrnA 0.826  TstA 0.871\n",
      "Update   120  TrnNLL  421.686  TstNLL   39.202  TrnA 0.822  TstA 0.862\n",
      "Update   125  TrnNLL  456.205  TstNLL   42.781  TrnA 0.807  TstA 0.828\n",
      "Update   130  TrnNLL  351.895  TstNLL   34.833  TrnA 0.846  TstA 0.879\n",
      "Update   135  TrnNLL  322.914  TstNLL   31.703  TrnA 0.866  TstA 0.914\n",
      "Update   140  TrnNLL  323.344  TstNLL   31.727  TrnA 0.866  TstA 0.914\n",
      "Update   145  TrnNLL  281.531  TstNLL   29.220  TrnA 0.889  TstA 0.897\n",
      "Update   150  TrnNLL  292.472  TstNLL   31.336  TrnA 0.886  TstA 0.862\n",
      "Update   155  TrnNLL  285.309  TstNLL   30.350  TrnA 0.888  TstA 0.879\n",
      "Update   160  TrnNLL  284.873  TstNLL   30.274  TrnA 0.888  TstA 0.879\n",
      "Update   165  TrnNLL  283.279  TstNLL   29.759  TrnA 0.888  TstA 0.914\n",
      "Update   170  TrnNLL  281.288  TstNLL   29.220  TrnA 0.893  TstA 0.914\n",
      "Update   175  TrnNLL  280.673  TstNLL   29.045  TrnA 0.895  TstA 0.914\n",
      "Update   180  TrnNLL  368.778  TstNLL   39.236  TrnA 0.855  TstA 0.879\n",
      "Update   185  TrnNLL  343.852  TstNLL   37.471  TrnA 0.859  TstA 0.888\n",
      "Update   190  TrnNLL  357.980  TstNLL   39.319  TrnA 0.857  TstA 0.888\n",
      "Update   195  TrnNLL  356.897  TstNLL   39.209  TrnA 0.855  TstA 0.888\n",
      "Update   200  TrnNLL  320.945  TstNLL   34.514  TrnA 0.867  TstA 0.905\n",
      "Update   205  TrnNLL  252.717  TstNLL   26.792  TrnA 0.902  TstA 0.922\n",
      "Update   210  TrnNLL  255.638  TstNLL   27.404  TrnA 0.904  TstA 0.922\n",
      "Update   215  TrnNLL  297.694  TstNLL   33.610  TrnA 0.887  TstA 0.905\n",
      "Update   220  TrnNLL  262.133  TstNLL   28.371  TrnA 0.896  TstA 0.922\n",
      "Update   225  TrnNLL  273.900  TstNLL   29.501  TrnA 0.894  TstA 0.940\n",
      "Update   230  TrnNLL  245.794  TstNLL   27.190  TrnA 0.909  TstA 0.922\n",
      "Update   235  TrnNLL  252.877  TstNLL   27.265  TrnA 0.906  TstA 0.922\n",
      "Update   240  TrnNLL  247.976  TstNLL   26.924  TrnA 0.905  TstA 0.922\n",
      "Update   245  TrnNLL  218.943  TstNLL   25.885  TrnA 0.926  TstA 0.922\n",
      "Update   250  TrnNLL  217.286  TstNLL   26.044  TrnA 0.927  TstA 0.931\n",
      "Update   255  TrnNLL  219.175  TstNLL   25.952  TrnA 0.928  TstA 0.922\n",
      "Update   260  TrnNLL  235.664  TstNLL   26.822  TrnA 0.920  TstA 0.922\n",
      "Update   265  TrnNLL  221.110  TstNLL   24.405  TrnA 0.930  TstA 0.922\n",
      "Update   270  TrnNLL  232.272  TstNLL   24.550  TrnA 0.918  TstA 0.940\n",
      "Update   275  TrnNLL  237.329  TstNLL   24.988  TrnA 0.914  TstA 0.931\n",
      "Update   280  TrnNLL  210.667  TstNLL   22.502  TrnA 0.938  TstA 0.940\n",
      "Update   285  TrnNLL  201.527  TstNLL   21.678  TrnA 0.938  TstA 0.940\n",
      "Update   290  TrnNLL  199.346  TstNLL   21.842  TrnA 0.938  TstA 0.940\n",
      "Update   295  TrnNLL  205.308  TstNLL   21.555  TrnA 0.940  TstA 0.931\n",
      "Update   300  TrnNLL  202.296  TstNLL   21.127  TrnA 0.942  TstA 0.940\n",
      "Update   305  TrnNLL  201.326  TstNLL   21.092  TrnA 0.940  TstA 0.931\n",
      "Update   310  TrnNLL  187.464  TstNLL   19.860  TrnA 0.945  TstA 0.940\n",
      "Update   315  TrnNLL  186.534  TstNLL   19.191  TrnA 0.946  TstA 0.940\n",
      "Update   320  TrnNLL  187.304  TstNLL   19.137  TrnA 0.947  TstA 0.940\n",
      "Update   325  TrnNLL  185.713  TstNLL   18.963  TrnA 0.944  TstA 0.940\n",
      "Update   330  TrnNLL  184.586  TstNLL   18.879  TrnA 0.944  TstA 0.940\n",
      "Update   335  TrnNLL  250.612  TstNLL   33.901  TrnA 0.916  TstA 0.914\n",
      "Update   340  TrnNLL  201.807  TstNLL   26.522  TrnA 0.933  TstA 0.914\n",
      "Update   345  TrnNLL  196.907  TstNLL   25.837  TrnA 0.935  TstA 0.922\n",
      "Update   350  TrnNLL  193.959  TstNLL   23.726  TrnA 0.940  TstA 0.922\n",
      "Update   355  TrnNLL  193.081  TstNLL   23.291  TrnA 0.937  TstA 0.940\n",
      "Update   360  TrnNLL  192.522  TstNLL   23.266  TrnA 0.937  TstA 0.940\n",
      "Update   365  TrnNLL  189.417  TstNLL   22.286  TrnA 0.936  TstA 0.931\n",
      "Update   370  TrnNLL  187.425  TstNLL   22.384  TrnA 0.938  TstA 0.922\n",
      "Update   375  TrnNLL  188.921  TstNLL   22.810  TrnA 0.934  TstA 0.922\n",
      "Update   380  TrnNLL  185.124  TstNLL   22.324  TrnA 0.940  TstA 0.922\n",
      "Update   385  TrnNLL  194.330  TstNLL   22.826  TrnA 0.927  TstA 0.914\n",
      "Update   390  TrnNLL  196.226  TstNLL   22.936  TrnA 0.925  TstA 0.922\n",
      "Update   395  TrnNLL  206.651  TstNLL   26.090  TrnA 0.916  TstA 0.931\n",
      "Update   400  TrnNLL  191.821  TstNLL   23.243  TrnA 0.930  TstA 0.922\n",
      "Update   405  TrnNLL  188.863  TstNLL   23.408  TrnA 0.930  TstA 0.922\n",
      "Update   410  TrnNLL  192.297  TstNLL   23.860  TrnA 0.928  TstA 0.922\n",
      "Update   415  TrnNLL  180.670  TstNLL   21.519  TrnA 0.941  TstA 0.922\n",
      "Update   420  TrnNLL  183.026  TstNLL   22.023  TrnA 0.939  TstA 0.922\n",
      "Update   425  TrnNLL  175.822  TstNLL   20.709  TrnA 0.941  TstA 0.922\n",
      "Update   430  TrnNLL  170.631  TstNLL   20.247  TrnA 0.948  TstA 0.931\n",
      "Update   435  TrnNLL  202.035  TstNLL   27.374  TrnA 0.928  TstA 0.922\n",
      "Update   440  TrnNLL  190.137  TstNLL   25.634  TrnA 0.931  TstA 0.914\n",
      "Update   445  TrnNLL  190.503  TstNLL   25.688  TrnA 0.931  TstA 0.914\n",
      "Update   450  TrnNLL  158.092  TstNLL   20.610  TrnA 0.945  TstA 0.940\n",
      "Update   455  TrnNLL  165.420  TstNLL   22.570  TrnA 0.943  TstA 0.914\n",
      "Update   460  TrnNLL  165.653  TstNLL   22.830  TrnA 0.941  TstA 0.914\n",
      "Update   465  TrnNLL  161.880  TstNLL   22.530  TrnA 0.943  TstA 0.914\n",
      "Update   470  TrnNLL  162.832  TstNLL   22.679  TrnA 0.942  TstA 0.914\n",
      "Update   475  TrnNLL  164.383  TstNLL   23.006  TrnA 0.942  TstA 0.914\n",
      "Update   480  TrnNLL  152.552  TstNLL   21.650  TrnA 0.944  TstA 0.922\n",
      "Update   485  TrnNLL  151.593  TstNLL   21.421  TrnA 0.946  TstA 0.922\n",
      "Update   490  TrnNLL  148.712  TstNLL   20.590  TrnA 0.948  TstA 0.931\n",
      "Update   495  TrnNLL  149.277  TstNLL   18.720  TrnA 0.951  TstA 0.922\n",
      "Update   500  TrnNLL  146.710  TstNLL   18.698  TrnA 0.953  TstA 0.922\n",
      "Update   505  TrnNLL  145.001  TstNLL   19.284  TrnA 0.952  TstA 0.922\n",
      "Update   510  TrnNLL  144.993  TstNLL   19.505  TrnA 0.954  TstA 0.922\n",
      "Update   515  TrnNLL  142.885  TstNLL   19.424  TrnA 0.954  TstA 0.922\n",
      "Update   520  TrnNLL  136.616  TstNLL   20.581  TrnA 0.954  TstA 0.931\n",
      "Update   525  TrnNLL  123.921  TstNLL   16.946  TrnA 0.957  TstA 0.940\n",
      "Update   530  TrnNLL  124.780  TstNLL   17.538  TrnA 0.958  TstA 0.940\n",
      "Update   535  TrnNLL  124.283  TstNLL   17.812  TrnA 0.956  TstA 0.948\n",
      "Update   540  TrnNLL  124.324  TstNLL   17.827  TrnA 0.956  TstA 0.948\n",
      "Update   545  TrnNLL  124.106  TstNLL   17.982  TrnA 0.956  TstA 0.940\n",
      "Update   550  TrnNLL  137.706  TstNLL   16.925  TrnA 0.956  TstA 0.948\n",
      "Update   555  TrnNLL  130.866  TstNLL   15.893  TrnA 0.960  TstA 0.940\n",
      "Update   560  TrnNLL  128.373  TstNLL   15.894  TrnA 0.961  TstA 0.940\n",
      "Update   565  TrnNLL  129.343  TstNLL   15.990  TrnA 0.960  TstA 0.940\n",
      "Update   570  TrnNLL  134.864  TstNLL   16.311  TrnA 0.954  TstA 0.931\n",
      "Update   575  TrnNLL  135.586  TstNLL   16.367  TrnA 0.953  TstA 0.931\n",
      "Update   580  TrnNLL  132.747  TstNLL   16.808  TrnA 0.954  TstA 0.931\n",
      "Update   585  TrnNLL  132.241  TstNLL   16.693  TrnA 0.954  TstA 0.931\n",
      "Update   590  TrnNLL  127.965  TstNLL   18.536  TrnA 0.960  TstA 0.957\n",
      "Update   595  TrnNLL  127.832  TstNLL   18.493  TrnA 0.959  TstA 0.957\n",
      "Update   600  TrnNLL  127.822  TstNLL   18.492  TrnA 0.959  TstA 0.957\n",
      "Update   605  TrnNLL  126.775  TstNLL   17.903  TrnA 0.961  TstA 0.957\n",
      "Update   610  TrnNLL  128.787  TstNLL   19.330  TrnA 0.962  TstA 0.957\n",
      "Update   615  TrnNLL  130.311  TstNLL   19.689  TrnA 0.959  TstA 0.940\n"
     ]
    },
    {
     "name": "stdout",
     "output_type": "stream",
     "text": [
      "Update   620  TrnNLL  132.879  TstNLL   21.348  TrnA 0.954  TstA 0.948\n",
      "Update   625  TrnNLL  125.209  TstNLL   19.831  TrnA 0.963  TstA 0.948\n",
      "Update   630  TrnNLL  124.181  TstNLL   19.433  TrnA 0.962  TstA 0.948\n",
      "Update   635  TrnNLL  122.024  TstNLL   18.379  TrnA 0.961  TstA 0.957\n",
      "Update   640  TrnNLL  121.484  TstNLL   17.798  TrnA 0.964  TstA 0.948\n",
      "Update   645  TrnNLL  120.513  TstNLL   17.208  TrnA 0.964  TstA 0.940\n",
      "Update   650  TrnNLL  112.094  TstNLL   17.251  TrnA 0.965  TstA 0.957\n",
      "Update   655  TrnNLL  112.087  TstNLL   17.244  TrnA 0.965  TstA 0.957\n",
      "Update   660  TrnNLL  116.093  TstNLL   15.235  TrnA 0.967  TstA 0.948\n",
      "Update   665  TrnNLL  118.819  TstNLL   15.759  TrnA 0.966  TstA 0.940\n",
      "Update   670  TrnNLL  113.174  TstNLL   14.910  TrnA 0.966  TstA 0.940\n",
      "Update   675  TrnNLL  106.573  TstNLL   14.340  TrnA 0.970  TstA 0.957\n",
      "Update   680  TrnNLL  106.663  TstNLL   14.337  TrnA 0.970  TstA 0.957\n",
      "Update   685  TrnNLL   98.374  TstNLL   15.272  TrnA 0.974  TstA 0.966\n",
      "Update   690  TrnNLL   98.109  TstNLL   15.300  TrnA 0.973  TstA 0.966\n",
      "Update   695  TrnNLL   98.002  TstNLL   15.281  TrnA 0.973  TstA 0.966\n",
      "Update   700  TrnNLL   99.164  TstNLL   15.109  TrnA 0.972  TstA 0.957\n",
      "Update   705  TrnNLL   99.421  TstNLL   15.143  TrnA 0.972  TstA 0.957\n",
      "Update   710  TrnNLL   98.720  TstNLL   15.136  TrnA 0.971  TstA 0.957\n",
      "Update   715  TrnNLL   96.326  TstNLL   15.013  TrnA 0.976  TstA 0.966\n",
      "Update   720  TrnNLL   96.375  TstNLL   15.193  TrnA 0.977  TstA 0.966\n",
      "Update   725  TrnNLL   96.010  TstNLL   15.192  TrnA 0.977  TstA 0.966\n",
      "Update   730  TrnNLL   99.792  TstNLL   15.080  TrnA 0.974  TstA 0.957\n",
      "Update   735  TrnNLL   99.003  TstNLL   15.302  TrnA 0.973  TstA 0.948\n",
      "Update   740  TrnNLL   96.195  TstNLL   14.532  TrnA 0.975  TstA 0.957\n",
      "Update   745  TrnNLL   96.554  TstNLL   14.391  TrnA 0.975  TstA 0.957\n",
      "Update   750  TrnNLL   95.796  TstNLL   14.424  TrnA 0.977  TstA 0.957\n",
      "Update   755  TrnNLL   95.720  TstNLL   14.416  TrnA 0.977  TstA 0.957\n",
      "Update   760  TrnNLL   95.822  TstNLL   14.355  TrnA 0.976  TstA 0.957\n",
      "Update   765  TrnNLL  100.979  TstNLL   18.369  TrnA 0.978  TstA 0.966\n",
      "Update   770  TrnNLL  107.700  TstNLL   20.060  TrnA 0.974  TstA 0.957\n",
      "Update   775  TrnNLL  107.961  TstNLL   20.141  TrnA 0.974  TstA 0.957\n",
      "Update   780  TrnNLL  106.766  TstNLL   19.903  TrnA 0.976  TstA 0.957\n",
      "Update   785  TrnNLL  105.782  TstNLL   19.684  TrnA 0.975  TstA 0.957\n",
      "Update   790  TrnNLL  107.254  TstNLL   20.016  TrnA 0.973  TstA 0.957\n",
      "Update   795  TrnNLL  105.831  TstNLL   19.655  TrnA 0.975  TstA 0.957\n",
      "Update   800  TrnNLL  114.091  TstNLL   21.747  TrnA 0.969  TstA 0.957\n",
      "Update   805  TrnNLL  115.747  TstNLL   22.163  TrnA 0.968  TstA 0.957\n",
      "Update   810  TrnNLL  120.419  TstNLL   23.288  TrnA 0.965  TstA 0.940\n",
      "Update   815  TrnNLL  111.008  TstNLL   21.689  TrnA 0.971  TstA 0.957\n",
      "Update   820  TrnNLL  138.712  TstNLL   32.657  TrnA 0.953  TstA 0.905\n",
      "Update   825  TrnNLL  115.697  TstNLL   29.388  TrnA 0.962  TstA 0.931\n",
      "Update   830  TrnNLL  101.714  TstNLL   26.469  TrnA 0.967  TstA 0.940\n",
      "Update   835  TrnNLL  101.841  TstNLL   26.503  TrnA 0.967  TstA 0.940\n",
      "Update   840  TrnNLL  124.302  TstNLL   30.776  TrnA 0.960  TstA 0.931\n",
      "Update   845  TrnNLL  111.577  TstNLL   27.637  TrnA 0.963  TstA 0.931\n",
      "Update   850  TrnNLL  102.506  TstNLL   25.293  TrnA 0.969  TstA 0.940\n",
      "Update   855  TrnNLL   81.039  TstNLL   19.445  TrnA 0.975  TstA 0.940\n",
      "Update   860  TrnNLL   78.603  TstNLL   19.315  TrnA 0.975  TstA 0.940\n",
      "Update   865  TrnNLL   68.700  TstNLL   14.146  TrnA 0.981  TstA 0.966\n",
      "Update   870  TrnNLL   70.203  TstNLL   14.647  TrnA 0.980  TstA 0.957\n",
      "Update   875  TrnNLL   69.849  TstNLL   14.627  TrnA 0.980  TstA 0.957\n",
      "Update   880  TrnNLL   68.476  TstNLL   14.477  TrnA 0.980  TstA 0.948\n",
      "Update   885  TrnNLL   68.063  TstNLL   14.434  TrnA 0.979  TstA 0.948\n",
      "Update   890  TrnNLL   66.403  TstNLL   13.934  TrnA 0.982  TstA 0.957\n",
      "Update   895  TrnNLL   62.826  TstNLL   13.094  TrnA 0.983  TstA 0.957\n",
      "Update   900  TrnNLL   68.137  TstNLL   14.162  TrnA 0.984  TstA 0.966\n",
      "Update   905  TrnNLL   63.832  TstNLL   13.256  TrnA 0.985  TstA 0.966\n",
      "Update   910  TrnNLL   59.632  TstNLL   12.203  TrnA 0.988  TstA 0.966\n",
      "Update   915  TrnNLL   58.704  TstNLL   12.322  TrnA 0.987  TstA 0.966\n",
      "Update   920  TrnNLL   58.504  TstNLL   12.277  TrnA 0.988  TstA 0.966\n",
      "Update   925  TrnNLL   58.383  TstNLL   12.285  TrnA 0.988  TstA 0.966\n",
      "Update   930  TrnNLL   58.383  TstNLL   12.285  TrnA 0.988  TstA 0.966\n",
      "Update   935  TrnNLL   58.295  TstNLL   12.267  TrnA 0.987  TstA 0.966\n",
      "Update   940  TrnNLL   57.585  TstNLL   11.957  TrnA 0.988  TstA 0.966\n",
      "Update   945  TrnNLL   57.353  TstNLL   12.006  TrnA 0.988  TstA 0.966\n",
      "Update   950  TrnNLL   56.728  TstNLL   11.925  TrnA 0.987  TstA 0.966\n",
      "Update   955  TrnNLL   56.811  TstNLL   11.983  TrnA 0.987  TstA 0.966\n",
      "Update   960  TrnNLL   56.894  TstNLL   12.068  TrnA 0.987  TstA 0.957\n",
      "Update   965  TrnNLL   55.842  TstNLL   11.897  TrnA 0.988  TstA 0.966\n",
      "Update   970  TrnNLL   55.839  TstNLL   11.900  TrnA 0.988  TstA 0.966\n",
      "Update   975  TrnNLL   55.712  TstNLL   12.040  TrnA 0.988  TstA 0.966\n",
      "Update   980  TrnNLL   55.835  TstNLL   12.059  TrnA 0.988  TstA 0.966\n",
      "Update   985  TrnNLL   55.514  TstNLL   12.310  TrnA 0.988  TstA 0.966\n",
      "Update   990  TrnNLL   55.527  TstNLL   12.319  TrnA 0.988  TstA 0.966\n",
      "Update   995  TrnNLL   55.503  TstNLL   12.310  TrnA 0.988  TstA 0.966\n",
      "Update  1000  TrnNLL   55.863  TstNLL   12.550  TrnA 0.988  TstA 0.966\n",
      "Update  1005  TrnNLL   56.273  TstNLL   12.723  TrnA 0.988  TstA 0.957\n",
      "Update  1010  TrnNLL   54.983  TstNLL   12.478  TrnA 0.989  TstA 0.957\n",
      "Update  1015  TrnNLL   55.415  TstNLL   12.701  TrnA 0.989  TstA 0.957\n",
      "Update  1020  TrnNLL   55.382  TstNLL   12.855  TrnA 0.989  TstA 0.957\n",
      "Update  1025  TrnNLL   52.085  TstNLL   11.558  TrnA 0.987  TstA 0.966\n",
      "Update  1030  TrnNLL   49.453  TstNLL   11.207  TrnA 0.989  TstA 0.966\n",
      "Update  1035  TrnNLL   49.546  TstNLL   11.178  TrnA 0.989  TstA 0.966\n",
      "Update  1040  TrnNLL   49.922  TstNLL   11.219  TrnA 0.989  TstA 0.966\n",
      "Update  1045  TrnNLL   50.110  TstNLL   11.253  TrnA 0.989  TstA 0.966\n",
      "Update  1050  TrnNLL   49.558  TstNLL   11.178  TrnA 0.989  TstA 0.966\n",
      "Update  1055  TrnNLL   49.377  TstNLL   11.164  TrnA 0.989  TstA 0.966\n",
      "Update  1060  TrnNLL   49.312  TstNLL   11.212  TrnA 0.990  TstA 0.974\n",
      "Update  1065  TrnNLL   49.525  TstNLL   11.175  TrnA 0.988  TstA 0.974\n",
      "Update  1070  TrnNLL   48.206  TstNLL   11.204  TrnA 0.991  TstA 0.966\n"
     ]
    }
   ],
   "source": [
    "lr = LogReg(train_set, test_set, lam=0, eta=0.1)\n",
    "lr.train(isVerbose=True)"
   ]
  },
  {
   "cell_type": "markdown",
   "metadata": {},
   "source": [
    "The unit tests are located in the script `tests.py` in this directory.  Execute the following cell to call the script and run the tests. "
   ]
  },
  {
   "cell_type": "code",
   "execution_count": 93,
   "metadata": {},
   "outputs": [
    {
     "name": "stderr",
     "output_type": "stream",
     "text": [
      "test_unreg (__main__.TestLogReg) ... ok\n",
      "test_learnrate (__main__.TestLogReg) ... ok\n",
      "\n",
      "----------------------------------------------------------------------\n",
      "Ran 2 tests in 0.008s\n",
      "\n",
      "OK\n"
     ]
    },
    {
     "data": {
      "text/plain": [
       "<matplotlib.figure.Figure at 0x24a516f9e48>"
      ]
     },
     "metadata": {},
     "output_type": "display_data"
    }
   ],
   "source": [
    "%run -i tests.py \"part A\""
   ]
  },
  {
   "cell_type": "markdown",
   "metadata": {},
   "source": [
    "**Part B**: After your unregularized updates are working, modify the `sgd_update` function again to perform regularized updates using **Lazy Sparse Regularization**. Note that you should not regularize the bias weight. See the Lecture 4 in-class notebook for a refresher on LSR. **Note**: After implementing LSR, your code should still pass the unit tests for **Part A** when `lam = 0`. \n",
    "\n",
    "We've given you a third unit test in the next cell called `test_reg` based on the simple example of LSR worked out in  the Lecture 4 in-class notebook.  Do not move on to **Problem 3** until your code passes the test. "
   ]
  },
  {
   "cell_type": "code",
   "execution_count": 94,
   "metadata": {},
   "outputs": [
    {
     "name": "stderr",
     "output_type": "stream",
     "text": [
      "test_reg (__main__.TestLogReg) ... ok\n",
      "\n",
      "----------------------------------------------------------------------\n",
      "Ran 1 test in 0.002s\n",
      "\n",
      "OK\n"
     ]
    }
   ],
   "source": [
    "%run -i tests.py \"part B\""
   ]
  },
  {
   "cell_type": "markdown",
   "metadata": {},
   "source": [
    "### [10 points] Problem 3: Hyperparameter Tuning \n",
    "***\n",
    "\n",
    "**Part A**: Perform a systematic study of the effect of the regularization parameter on the accuracy of your classifier on the test set.  Which choice of `lam` seems to do the best?  Justify your conclusion with some kind of graphic. "
   ]
  },
  {
   "cell_type": "code",
   "execution_count": 106,
   "metadata": {},
   "outputs": [
    {
     "data": {
      "text/plain": [
       "Text(0,0.5,'Accuracy')"
      ]
     },
     "execution_count": 106,
     "metadata": {},
     "output_type": "execute_result"
    },
    {
     "data": {
      "image/png": "[encoded data removed]",
      "text/plain": [
       "<matplotlib.figure.Figure at 0x24a5180a588>"
      ]
     },
     "metadata": {},
     "output_type": "display_data"
    }
   ],
   "source": [
    "acc = []\n",
    "a = np.linspace(0, 0.01, num=10)\n",
    "for num in a: \n",
    "    lr = LogReg(train_set, test_set, lam=num, eta=0.1)\n",
    "    lr.train()\n",
    "    acc.append(lr.test_acc[-1])\n",
    "plt.plot(a,acc)\n",
    "plt.xlabel(\"Regularization parameter\")\n",
    "plt.ylabel(\"Accuracy\")"
   ]
  },
  {
   "cell_type": "code",
   "execution_count": 107,
   "metadata": {},
   "outputs": [
    {
     "name": "stdout",
     "output_type": "stream",
     "text": [
      "0.00111111111111\n"
     ]
    }
   ],
   "source": [
    "print(a[acc.index(max(acc))])"
   ]
  },
  {
   "cell_type": "markdown",
   "metadata": {},
   "source": [
    "Based on the above illustration, We can study the effect of regularization parameter on the accuracy of the classifier and also we can conclude the accuracy is maximum with the regularization parameter value as 0.001 (most of the time). "
   ]
  },
  {
   "cell_type": "markdown",
   "metadata": {},
   "source": [
    "**Part B**: For the value of `lam` chosen in **Part A** perform a systematic study of the choice of learning rate on the speed of convergence SGD.  Which learning rate seems to give the fastest convergence?  Justify your conclusion with some kind of graphic. "
   ]
  },
  {
   "cell_type": "code",
   "execution_count": 41,
   "metadata": {},
   "outputs": [
    {
     "data": {
      "image/png": "[encoded data removed]",
      "text/plain": [
       "<matplotlib.figure.Figure at 0x24a5180a898>"
      ]
     },
     "metadata": {},
     "output_type": "display_data"
    },
    {
     "name": "stdout",
     "output_type": "stream",
     "text": [
      "[2021.8893678160925, 2032.6508620689658, 2034.7485632183909, 2047.9382183908056, 2021.875, 1995.2945402298853, 2031.3577586206898, 2015.7183908045979, 2010.7471264367821, 2006.4655172413798]\n",
      "[0.9741379310344828, 0.9655172413793104, 0.9568965517241379, 0.9741379310344828, 0.9568965517241379, 0.9568965517241379, 0.9655172413793104, 0.9568965517241379, 0.9655172413793104, 0.9655172413793104]\n"
     ]
    }
   ],
   "source": [
    "from scipy.integrate import simps\n",
    "etas = np.linspace(0.005, 0.05, num=10)\n",
    "area= []\n",
    "final_acc=[]\n",
    "for i in range(len(etas)):\n",
    "    lr1 = LogReg(train_set, test_set, lam=0.001, eta=etas[i])\n",
    "    lr1.train(num_epochs=2,report_step = 10)\n",
    "    plt.plot(np.linspace(1,len(lr1.test_acc[10:]),len(lr1.test_acc[10:])),lr1.test_acc[10:], label = str(etas[i]))\n",
    "    area.append(simps(lr1.test_acc, dx=10))\n",
    "    final_acc.append(lr1.test_acc[-1])\n",
    "plt.legend(loc='best')\n",
    "plt.xlabel('Iterations w.r.t report step')\n",
    "plt.ylabel('Test Accuracy')\n",
    "plt.show()\n",
    "print(area)\n",
    "print(final_acc)"
   ]
  },
  {
   "cell_type": "markdown",
   "metadata": {},
   "source": [
    "The above graph is printed conveniently. The values above are the areas under the curves and final test accuracies based on the eta values. "
   ]
  },
  {
   "cell_type": "code",
   "execution_count": 90,
   "metadata": {},
   "outputs": [
    {
     "name": "stdout",
     "output_type": "stream",
     "text": [
      "The learning rate that reaches it's maximum area on the validation set in the fewest amount of iterations is 0.02\n",
      "The learning rate leads to the highest accuracy (97.41 %) on the validation set is 0.02\n"
     ]
    }
   ],
   "source": [
    "print(\"The learning rate that reaches it's maximum area on the validation set in the fewest amount of iterations is \"+str(etas[np.array(area).argsort()[::-1][0]]))\n",
    "print(\"The learning rate leads to the highest accuracy (\"+str(max(final_acc)*100)[:5] + \" %) on the validation set is \"+str(etas[np.array(final_acc).argsort()[::-1][0]]))"
   ]
  },
  {
   "cell_type": "markdown",
   "metadata": {},
   "source": [
    "### [10 points] Problem 4: Identifying Predictive and Non-Predictive Words \n",
    "***\n",
    "\n",
    "**Part A**: Find the top 10 words that are the best predictors for each class.  Explain mathematically how you identified them and show any code that you used to find them. "
   ]
  },
  {
   "cell_type": "code",
   "execution_count": 70,
   "metadata": {
    "collapsed": true
   },
   "outputs": [],
   "source": [
    "lr2 = LogReg(train_set, test_set, lam=0.001, eta=0.02)\n",
    "lr2.train(num_epochs=3)"
   ]
  },
  {
   "cell_type": "code",
   "execution_count": 74,
   "metadata": {},
   "outputs": [
    {
     "name": "stdout",
     "output_type": "stream",
     "text": [
      "The best predictors for the motorcycle class: ['bike', 'dod', 'bikes', 'ride', 'riding', 'helmet', 'rider', 'jonathan', 'shaft', 'moa'] \n",
      "The best predictors for the automobile class: ['car', 'cars', 'toyota', 'ford', 'warning', 'saturn', 'dealer', 'eliot', 'parts', 'usa'] \n"
     ]
    }
   ],
   "source": [
    "print(\"The best predictors for the motorcycle class: {} \".format([vocab[i] for i in lr2.w.argsort()[::-1][:10]]))\n",
    "print(\"The best predictors for the automobile class: {} \".format([vocab[i] for i in lr2.w.argsort()[:10]]))"
   ]
  },
  {
   "cell_type": "markdown",
   "metadata": {},
   "source": [
    "The best predictors of each of the class are those at the respective extremes of all the weights when they are sorted.\n",
    "\n",
    "$$\n",
    "w_k \\leftarrow w_k - \\eta[\\textrm{sigm}({\\bf w}^T{\\bf x}_i)-y_i]x_{ik}\n",
    "$$\n",
    "\n",
    "In the above equation, the label value (y) is subtracted in the inner term which affects the weights w.r.t to their classes, and also drives them towards their corresponding extremity in the weight space."
   ]
  },
  {
   "cell_type": "markdown",
   "metadata": {},
   "source": [
    "**Part B**: Find the 10 words that are the worst predictors for class.  Explain mathematically how you identified them and show any code that you used to find them. "
   ]
  },
  {
   "cell_type": "code",
   "execution_count": 80,
   "metadata": {},
   "outputs": [
    {
     "name": "stdout",
     "output_type": "stream",
     "text": [
      "The worst predictors for class: ['seriously', 'buyers', 'agreement', 'immediately', 'weak', 'million', 'labor', 'credit', 'records', 'harsh'] \n"
     ]
    }
   ],
   "source": [
    "print(\"The worst predictors for class: {} \".format([vocab[i] for i in lr2.w.argsort()[len(lr2.w)//2-5:len(lr2.w)//2+5]]))"
   ]
  },
  {
   "cell_type": "markdown",
   "metadata": {},
   "source": [
    "For both the class the worst predictors are the words with the weights around the median of all the weights.\n",
    "These are the words that might occur in documents belonging to both the classes."
   ]
  }
 ],
 "metadata": {
  "kernelspec": {
   "display_name": "Python 3",
   "language": "python",
   "name": "python3"
  },
  "language_info": {
   "codemirror_mode": {
    "name": "ipython",
    "version": 3
   },
   "file_extension": ".py",
   "mimetype": "text/x-python",
   "name": "python",
   "nbconvert_exporter": "python",
   "pygments_lexer": "ipython3",
   "version": "3.6.3"
  }
 },
 "nbformat": 4,
 "nbformat_minor": 2
}
